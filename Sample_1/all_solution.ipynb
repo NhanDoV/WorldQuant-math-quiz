{
 "cells": [
  {
   "cell_type": "code",
   "execution_count": 2,
   "metadata": {},
   "outputs": [],
   "source": [
    "import numpy as np \n",
    "import pandas as pd\n",
    "import matplotlib.pyplot as plt"
   ]
  },
  {
   "cell_type": "markdown",
   "metadata": {},
   "source": [
    "##### Q1. You need to forecast a number that will be drawn from continuous from a uniform distribution between 0 and 60.\n",
    "- You will be charged `3$` for every unit you overestimate\n",
    "- will be charged `1$` for under-estimate\n",
    "- Otherwise, pay nothing\n",
    "What numbe should you forecast to minimized your expected cost?"
   ]
  },
  {
   "cell_type": "code",
   "execution_count": 3,
   "metadata": {},
   "outputs": [
    {
     "data": {
      "text/plain": [
       "Text(0.5, 1.0, 'Minimum.cost: 22.3012 and the value you must predict is 15 ')"
      ]
     },
     "execution_count": 3,
     "metadata": {},
     "output_type": "execute_result"
    },
    {
     "data": {
      "image/png": "[encoded data removed]",
      "text/plain": [
       "<Figure size 640x480 with 1 Axes>"
      ]
     },
     "metadata": {},
     "output_type": "display_data"
    }
   ],
   "source": [
    "E_cost = []\n",
    "for pred in range(61):\n",
    "    cost = []\n",
    "    actuals = np.random.uniform(low=0, high=60, size=10000)\n",
    "    for act in actuals:\n",
    "        act = int(act)\n",
    "        if pred > act:\n",
    "            res = 3*(pred - act)\n",
    "        elif pred == act:\n",
    "            res = 0\n",
    "        else:\n",
    "            res = (act - pred)\n",
    "        cost.append(res)\n",
    "    E_cost.append(np.mean(cost))\n",
    "Q = pd.DataFrame({'pred_val': range(61), 'cost': E_cost}).set_index('pred_val')\n",
    "plt.plot(range(61), E_cost)\n",
    "plt.title(f\"Minimum.cost: {Q.min().values[0]} and the value you must predict is {Q.idxmin().values[0]} \")"
   ]
  },
  {
   "cell_type": "markdown",
   "metadata": {},
   "source": [
    "##### Q2. The life-time of 10 light bulbs\n",
    "\n",
    "            221, 645, 538, 941, 269, 893, 703, 536, 823, 651\n",
    "\n",
    "The standard deviation of the lifetimes is"
   ]
  },
  {
   "cell_type": "code",
   "execution_count": 9,
   "metadata": {},
   "outputs": [
    {
     "name": "stdout",
     "output_type": "stream",
     "text": [
      "by np.std: 228.77849549291122\n",
      "True-variance : 241.1537084747218\n"
     ]
    }
   ],
   "source": [
    "s = [221, 645, 538, 941, 269, 893, 703, 536, 823, 651]\n",
    "print(\"by np.std:\", np.std(s))\n",
    "print(\"True-variance :\", np.sqrt(np.var(s)*len(s)/(len(s) - 1)))"
   ]
  },
  {
   "cell_type": "markdown",
   "metadata": {},
   "source": [
    "##### Q3. z-stats & p-val"
   ]
  },
  {
   "cell_type": "code",
   "execution_count": null,
   "metadata": {},
   "outputs": [],
   "source": [
    "def z_stats_and_pval(param, alternative_type)"
   ]
  },
  {
   "cell_type": "markdown",
   "metadata": {},
   "source": [
    "##### Q4. The random variables $X$ and $y$ are believed to be linearly related by the equation \n",
    "\n",
    "$$ Y = a + bX + \\epsilon $$\n",
    "\n",
    "where $a$ and $b$ are constants and $\\epsilon$ is a mean zero, normally distributed error term.\n",
    "\n",
    "The following sample of pairs $(x, y)$ is collected:\n",
    "\n",
    "$x:$ 65 78 52 82 92 89 73 98 56 76 \n",
    "\n",
    "$y:$ 39 43 21 64 57 47 27 75 34 52\n",
    "\n",
    "Using the method of least squares, calculate the values of  and   to 2 decimalplaces.Select one:\n"
   ]
  },
  {
   "cell_type": "code",
   "execution_count": 21,
   "metadata": {},
   "outputs": [
    {
     "data": {
      "text/plain": [
       "array([  0.92612779, -24.57832498])"
      ]
     },
     "execution_count": 21,
     "metadata": {},
     "output_type": "execute_result"
    }
   ],
   "source": [
    "x = [65, 78, 52, 82, 92, 89, 73, 98, 56, 76]\n",
    "y = [39, 43, 21, 64, 57, 47, 27, 75, 34, 52]\n",
    "ones = np.ones(len(x))\n",
    "X = np.column_stack((x, ones))\n",
    "A = np.matmul(X.T, X)\n",
    "w = np.matmul(np.matmul(np.linalg.inv(A), X.T), y)\n",
    "w"
   ]
  },
  {
   "cell_type": "markdown",
   "metadata": {},
   "source": []
  },
  {
   "cell_type": "code",
   "execution_count": 12,
   "metadata": {},
   "outputs": [
    {
     "name": "stdout",
     "output_type": "stream",
     "text": [
      "81 2\n",
      "162 3\n",
      "243 5\n",
      "324 7\n",
      "405 11\n",
      "486 13\n",
      "567 17\n",
      "648 19\n",
      "729 23\n",
      "810 29\n"
     ]
    },
    {
     "data": {
      "text/plain": [
       "810"
      ]
     },
     "execution_count": 12,
     "metadata": {},
     "output_type": "execute_result"
    }
   ],
   "source": [
    "import math\n",
    " \n",
    "def is_prime(n):\n",
    "    if n < 2:\n",
    "        return False\n",
    "    i = 2\n",
    "    while i*i <= n:\n",
    "        if n % i == 0:\n",
    "            return False\n",
    "        i += 1\n",
    "    return True\n",
    "\n",
    "A=0\n",
    "B=2\n",
    "while B < 30:\n",
    "    if is_prime(B):\n",
    "        A = A + 81\n",
    "        print(A, B)\n",
    "    B = B+1\n",
    "A"
   ]
  },
  {
   "cell_type": "code",
   "execution_count": 14,
   "metadata": {},
   "outputs": [
    {
     "data": {
      "text/plain": [
       "37"
      ]
     },
     "execution_count": 14,
     "metadata": {},
     "output_type": "execute_result"
    }
   ],
   "source": [
    "A=167\n",
    "B=91\n",
    "C=0\n",
    "while A-2 > B:\n",
    "    A = A-2\n",
    "    C = C+1\n",
    "C"
   ]
  },
  {
   "cell_type": "code",
   "execution_count": 21,
   "metadata": {},
   "outputs": [
    {
     "data": {
      "text/plain": [
       "99.50062499999999"
      ]
     },
     "execution_count": 21,
     "metadata": {},
     "output_type": "execute_result"
    }
   ],
   "source": [
    "X = 100\n",
    "for u in [0.7,0.2,0.2,0.9]:\n",
    "    if u >= 0.5:\n",
    "        X = X*1.05\n",
    "    else:\n",
    "        X = X*0.95\n",
    "X"
   ]
  },
  {
   "cell_type": "code",
   "execution_count": 40,
   "metadata": {},
   "outputs": [
    {
     "data": {
      "text/plain": [
       "915226261722.3989"
      ]
     },
     "execution_count": 40,
     "metadata": {},
     "output_type": "execute_result"
    }
   ],
   "source": [
    "def func(x, y):\n",
    "    return x*y/(x+y)\n",
    "\n",
    "S = 1\n",
    "for k in [10,9,8,7,6,5,4,3,2]:\n",
    "    S = S*func(2**k, 2**(k-1))\n",
    "S"
   ]
  },
  {
   "cell_type": "code",
   "execution_count": 47,
   "metadata": {},
   "outputs": [
    {
     "data": {
      "text/plain": [
       "1.001"
      ]
     },
     "execution_count": 47,
     "metadata": {},
     "output_type": "execute_result"
    }
   ],
   "source": [
    "round(func(func(func(func(func(func(func(func(func(2**10, 2**9), 2**8), 2**7), 2**6), 2**5), 2**4), 2**3), 4), 2), 3)"
   ]
  },
  {
   "cell_type": "code",
   "execution_count": 56,
   "metadata": {},
   "outputs": [
    {
     "data": {
      "text/plain": [
       "2.078586085462582e+16"
      ]
     },
     "execution_count": 56,
     "metadata": {},
     "output_type": "execute_result"
    }
   ],
   "source": [
    "p = 1\n",
    "for k in range(4):\n",
    "    p *= math.factorial(10+k)\n",
    "math.sqrt(p)"
   ]
  },
  {
   "cell_type": "code",
   "execution_count": null,
   "metadata": {},
   "outputs": [
    {
     "data": {
      "text/plain": [
       "6"
      ]
     },
     "execution_count": 65,
     "metadata": {},
     "output_type": "execute_result"
    }
   ],
   "source": [
    "def f(x):\n",
    "    r = 1\n",
    "    for i in range(x+1):\n",
    "        r = r+1\n",
    "    return r\n",
    "\n",
    "f(f(f(3)))"
   ]
  }
 ],
 "metadata": {
  "kernelspec": {
   "display_name": "Python 3",
   "language": "python",
   "name": "python3"
  },
  "language_info": {
   "codemirror_mode": {
    "name": "ipython",
    "version": 3
   },
   "file_extension": ".py",
   "mimetype": "text/x-python",
   "name": "python",
   "nbconvert_exporter": "python",
   "pygments_lexer": "ipython3",
   "version": "3.10.13"
  }
 },
 "nbformat": 4,
 "nbformat_minor": 2
}
