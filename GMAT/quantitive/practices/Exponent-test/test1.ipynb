{
 "cells": [
  {
   "cell_type": "markdown",
   "metadata": {},
   "source": [
    "[Reference](https://www.varsitytutors.com/gmat_math-exponents-problem-27891)\n",
    "\n",
    "-------------\n",
    "#### Q1\n",
    "If $x^2=5$, what does $x^6$ equal?\n",
    "#### Solution\n",
    "We have\n",
    "$$ x^6 = (x^2)^3 = 5^3 = 125 $$"
   ]
  },
  {
   "cell_type": "code",
   "execution_count": 1,
   "metadata": {},
   "outputs": [
    {
     "data": {
      "text/plain": [
       "125"
      ]
     },
     "execution_count": 1,
     "metadata": {},
     "output_type": "execute_result"
    }
   ],
   "source": [
    "5**3"
   ]
  },
  {
   "cell_type": "markdown",
   "metadata": {},
   "source": [
    "----------\n",
    "#### Q2. Simplify\n",
    "$$ \\dfrac{6^3}{36} + \\dfrac{3^{68}}{3^{67}} $$\n",
    "#### Solution\n",
    "We have\n",
    "- $ \\dfrac{6^3}{36} = \\dfrac{6^3}{6^2} = 6 $\n",
    "\n",
    "and\n",
    "\n",
    "- $ \\dfrac{3^{68}}{3^{67}} = 3$\n",
    "hence\n",
    "$$ \\dfrac{6^3}{36} + \\dfrac{3^{68}}{3^{67}} = 9$$"
   ]
  },
  {
   "cell_type": "code",
   "execution_count": 2,
   "metadata": {},
   "outputs": [
    {
     "data": {
      "text/plain": [
       "9.0"
      ]
     },
     "execution_count": 2,
     "metadata": {},
     "output_type": "execute_result"
    }
   ],
   "source": [
    "(6**3 / 36) + (3**68 / 3**67)"
   ]
  },
  {
   "cell_type": "markdown",
   "metadata": {},
   "source": [
    "----------\n",
    "#### Q3. \n",
    "Which of the following expressions is equivalent to this expression?\n",
    "$$ \\dfrac{x^{-1/2}}{x^{1/3}} $$\n",
    "- A. $x^{-1/4}$\n",
    "- B. $\\dfrac{\\sqrt[6]{x}}{x}$\n",
    "- C. $\\log_{6}x$\n",
    "#### Solution\n",
    "This is easy to see that $$ \\dfrac{x^{-1/2}}{x^{1/3}} = x^{-(1/2) - (1/3)} = x^{-5/6} = \\dfrac{\\sqrt[6]{x}}{x} $$"
   ]
  },
  {
   "cell_type": "markdown",
   "metadata": {},
   "source": [
    "----------\n",
    "#### Q4.\n",
    "Simplify the following expression without a calculator:\n",
    "$$ \\left( \\dfrac{9 x^{-5/2} y^{7/4} }{ x^{3/2} y^{-1/4} } \\right)^{3/2}  $$ \n",
    "#### Solution\n",
    "We have \n",
    "$$ \\begin{array}{cll} \\left( \\dfrac{9 x^{-5/2} y^{7/4} }{ x^{3/2} y^{-1/4} } \\right)^{3/2} &=& 9^{3/2} * \\left( x^{(-5/2) - 3/2} \\right)^{3/2} * \\left( y^{7/4 - (-1/4)} \\right)^{3/2} \\\\ &=& 27 * \\left( x^{-4} \\right)^{3/2} * \\left( y^{2} \\right)^{3/2} \\\\ &=& \\dfrac{27 y^3}{x^6} \\end{array} $$ "
   ]
  },
  {
   "cell_type": "code",
   "execution_count": 3,
   "metadata": {},
   "outputs": [
    {
     "data": {
      "text/plain": [
       "(-6.0, 27.0, 3.0)"
      ]
     },
     "execution_count": 3,
     "metadata": {},
     "output_type": "execute_result"
    }
   ],
   "source": [
    "(-5/2 - 3/2)*(3/2), 9**(3/2), (7/4 - (-1/4))*(3/2)"
   ]
  },
  {
   "cell_type": "markdown",
   "metadata": {},
   "source": [
    "----------\n",
    "#### Q5. Simplify\n",
    "$$ 3x^4 * x^2 + x^2 - x$$\n",
    "#### Solution\n",
    "We have\n",
    "$$ 3x^4 * x^2 + x^2 - x = 3x^6 + x^2 - x = x(3x^5 + x - 1) $$"
   ]
  },
  {
   "cell_type": "markdown",
   "metadata": {},
   "source": [
    "-----------\n",
    "#### Q6. Calculate\n",
    "$$ 4^{3/2} + 27^{2/3} $$\n",
    "#### Solution\n",
    "We have\n",
    "$$ 4^{3/2} + 27^{2/3} = 2^3 + 3^2 = 17$$"
   ]
  },
  {
   "cell_type": "code",
   "execution_count": 4,
   "metadata": {},
   "outputs": [
    {
     "data": {
      "text/plain": [
       "17.0"
      ]
     },
     "execution_count": 4,
     "metadata": {},
     "output_type": "execute_result"
    }
   ],
   "source": [
    "4**(3/2) + 27**(2/3)"
   ]
  },
  {
   "cell_type": "markdown",
   "metadata": {},
   "source": [
    "----------\n",
    "#### Q7. \n",
    "What are the last two digits, in order, of $6^{789}$\n",
    "#### Solution\n",
    "Look at the table below"
   ]
  },
  {
   "cell_type": "code",
   "execution_count": 5,
   "metadata": {},
   "outputs": [
    {
     "name": "stdout",
     "output_type": "stream",
     "text": [
      "|input number|   its expression   |    last-2digits    |   degree % 5 =?    |\n",
      "------------------------------------------------------------------------------\n",
      "|    6^01    |         6          |         06         |         1          |\n",
      "|    6^02    |         36         |         36         |         2          |\n",
      "|    6^03    |        216         |         16         |         3          |\n",
      "|    6^04    |        1296        |         96         |         4          |\n",
      "|    6^05    |        7776        |         76         |         0          |\n",
      "------------------------------------------------------------------------------\n",
      "|    6^06    |       46656        |         56         |         1          |\n",
      "|    6^07    |       279936       |         36         |         2          |\n",
      "|    6^08    |      1679616       |         16         |         3          |\n",
      "|    6^09    |      10077696      |         96         |         4          |\n",
      "|    6^10    |      60466176      |         76         |         0          |\n",
      "------------------------------------------------------------------------------\n",
      "|    6^11    |     362797056      |         56         |         1          |\n",
      "|    6^12    |     2176782336     |         36         |         2          |\n",
      "|    6^13    |    13060694016     |         16         |         3          |\n",
      "|    6^14    |    78364164096     |         96         |         4          |\n",
      "|    6^15    |    470184984576    |         76         |         0          |\n",
      "------------------------------------------------------------------------------\n"
     ]
    }
   ],
   "source": [
    "print(f\"|{'input number': ^12}|{'its expression': ^20}|{'last-2digits': ^20}|{'degree % 5 =?': ^20}|\")\n",
    "print(78*'-')\n",
    "for _ in range(1, 16):\n",
    "    res = 6**_\n",
    "    str_res = f\"6^{str(_).zfill(2)}\"\n",
    "    last_2d = str(res)[-2:].zfill(2)\n",
    "    print(f\"|{str_res: ^12}|{res: ^20}|{last_2d: ^20}|{str(_ % 5): ^20}|\")\n",
    "    if _ % 5 == 0:\n",
    "        print(78*'-')"
   ]
  },
  {
   "cell_type": "markdown",
   "metadata": {},
   "source": [
    "Hence the last 2 digits repeat in a cycle of $5$ and we have $789 = 5*157 + 4$ so the `last 2-digits` of $6^{789} $ will be the last 2-digits of $6^4$, that is $96$.\n",
    "\n",
    "-------\n",
    "#### Q8. \n",
    "If $3^p+3^p+3^p=3^q$, what is $p$ in terms of $q$?\n",
    "#### Solution\n",
    "We have\n",
    "$$ 3^p+3^p+3^p= 3^p * 3 = 3^{p+1} $$\n",
    "so $p+1 = q$ or $$ p = q-1 $$"
   ]
  },
  {
   "cell_type": "markdown",
   "metadata": {},
   "source": [
    "-----------\n",
    "#### Q9\n",
    "Rewrite as a single `logarithmic` expression $$ 3 + \\log_3 x - 2\\log_3 y $$\n",
    "#### Solution\n",
    "We have $a = \\log_3 3^a$ and $\\log_3 ab = \\log_3 a + \\log_3 b$ so\n",
    "$$  3 + \\log_3 x - 2\\log_3 y = \\log_3 \\left( 3^3 * x * y^{-2} \\right) = \\log_3 \\dfrac{27 x}{y^2} $$"
   ]
  }
 ],
 "metadata": {
  "kernelspec": {
   "display_name": "Python 3",
   "language": "python",
   "name": "python3"
  },
  "language_info": {
   "codemirror_mode": {
    "name": "ipython",
    "version": 3
   },
   "file_extension": ".py",
   "mimetype": "text/x-python",
   "name": "python",
   "nbconvert_exporter": "python",
   "pygments_lexer": "ipython3",
   "version": "3.10.13"
  }
 },
 "nbformat": 4,
 "nbformat_minor": 2
}
