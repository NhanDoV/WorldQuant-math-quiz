{
 "cells": [
  {
   "cell_type": "markdown",
   "metadata": {},
   "source": [
    "[Reference]()\n",
    "------------------------------\n",
    "#### Q1. \n",
    "A die is rolled and then a coin is tossed. What is the probability that the die shows an even number **AND** the coin shows a tail?\n",
    "\n",
    "##### Solution.\n",
    "Let $A$ be the event `\"die shows an even number\"` and $B$ be `\"coin shows a tail\"` and we have to find $P(A \\cap B)$, we have\n",
    "- $P(A) = \\dfrac{ set(2,4,6) }{set(1,2,3,4,5,6)} = 0.5$\n",
    "- $P(B) = 0.5$\n",
    "hence\n",
    "$$ P(A \\cap B) = P(A) P(B) = 0.25 $$"
   ]
  },
  {
   "cell_type": "code",
   "execution_count": 1,
   "metadata": {},
   "outputs": [
    {
     "data": {
      "text/plain": [
       "0.25"
      ]
     },
     "execution_count": 1,
     "metadata": {},
     "output_type": "execute_result"
    }
   ],
   "source": [
    "dice = range(1, 6+1, 1)\n",
    "A = [x for x in dice if x % 2 == 0]\n",
    "prob_A = len(A) / len(dice)\n",
    "prob_B = len([\"H\"]) / len([\"H\", \"T\"])\n",
    "prob_A * prob_B"
   ]
  },
  {
   "cell_type": "markdown",
   "metadata": {},
   "source": [
    "---------------------\n",
    "#### Q2. \n",
    "Daria has 5 plates: 2 are `green`, 1 is `blue`, 1 is `red`, and 1 is `both green and blue`. What is the probability that Daria randomly selects a plate that has `blue` **OR** `green` on it?\n",
    "\n",
    "#### Solution.\n",
    "Let $A$ be the event Daria obtain neither `GREEN` nor `BLUE`, then this must be `RED` with probability $\\dfrac{1}{5}$\n",
    "\n",
    "Hence, the probability that Daria randomly selects a plate that has `blue` OR `green` must be $1 - P(A) = \\dfrac{4}{5}$\n",
    "\n",
    "-------------------------------\n",
    "#### Q3. Look at the image below\n",
    "\n",
    "![Alt Text](https://vt-vtwa-assets.varsitytutors.com/vt-vtwa/uploads/problem_question_image/image/1566/Pie_Graph.gif)\n",
    "\n",
    "Refer to the `diagram`. If 3,145 people voted in the school board election, (the results of which are represented in the diagram), then approximately how many people voted for `Inman`?\n",
    "\n",
    "| &#x2610; `A. 630` | &#x2610; `B. 720` | &#x2610; `C. 943` | &#x2610; `D. 1120` | &#x2610; `E. 450` |\n",
    "|-|-|-|-|-|\n",
    "\n",
    "#### Solution\n",
    "\n",
    "The `gray` part is about one-fifth of all circle hence this corresponded to $\\dfrac{3145}{5} = 329$ and $630$ is the nearest anwsers"
   ]
  },
  {
   "cell_type": "code",
   "execution_count": 2,
   "metadata": {},
   "outputs": [
    {
     "data": {
      "text/plain": [
       "629.0"
      ]
     },
     "execution_count": 2,
     "metadata": {},
     "output_type": "execute_result"
    }
   ],
   "source": [
    "3145 / 5"
   ]
  },
  {
   "cell_type": "markdown",
   "metadata": {},
   "source": [
    "---------------------------\n",
    "#### Q4.\n",
    "Company B produces toy trucks for a shopping mall at a cost of `$7.00` each for the first `500` trucks and `$5.00` for each additional truck.  If `600` trucks were produced by Company B and sold for `$15.00` each, what was Company B’s gross profit?\n",
    "#### Solution\n",
    "- The total-profit is $15*600=9000$ while the total-cost is $7*500 + 5*(600 - 500) = 4000$\n",
    "- Hence the total revenue will be $9000-4000 = 5000$"
   ]
  },
  {
   "cell_type": "code",
   "execution_count": 3,
   "metadata": {},
   "outputs": [
    {
     "data": {
      "text/plain": [
       "5000"
      ]
     },
     "execution_count": 3,
     "metadata": {},
     "output_type": "execute_result"
    }
   ],
   "source": [
    "unit_price = 7\n",
    "add_unit_p = 5\n",
    "unit_sold = 15\n",
    "n_toys = 600\n",
    "n_limit = 500\n",
    "n_toys*unit_sold - ( unit_price*n_limit + (n_toys - n_limit)*add_unit_p )"
   ]
  },
  {
   "cell_type": "markdown",
   "metadata": {},
   "source": [
    "----------------\n",
    "#### Q5.\n",
    "Abe is a big gambler.  He is equally likely to `win`, `lose`, or `break even`.  When he loses, his loss is `$1000`.  When he wins, he either makes $500 or $1000 with equal probability.  How much money does Abe win or lose on average?\n",
    "#### Solution\n",
    "Let $X$ be the money that Abe we have\n",
    "$$ X = \\left\\lbrace \\begin{array}{cl} -1000 & \\text{  if Abe lose } \\\\ 1000 & \\text{  if Abe win } \\\\ 500 & \\text{  if Abe win }\\\\ 0 & \\text{  if Abe draw } \\end{array} \\right. $$\n",
    "and \n",
    "$$ P(\\text{win}) = P(\\text{loss}) = P(\\text{draw}) = \\dfrac{1}{3} $$\n",
    "hence\n",
    "$$ \\mathbb{E}X = \\dfrac{1}{3}*(-1000) + \\dfrac{1}{3}*0 + \\dfrac{1}{3} * \\dfrac{(1000 + 500)}{2}  $$"
   ]
  },
  {
   "cell_type": "code",
   "execution_count": 4,
   "metadata": {},
   "outputs": [
    {
     "data": {
      "text/plain": [
       "-83.33333333333331"
      ]
     },
     "execution_count": 4,
     "metadata": {},
     "output_type": "execute_result"
    }
   ],
   "source": [
    "-1000/3 + (1000 + 500) / 6"
   ]
  },
  {
   "cell_type": "markdown",
   "metadata": {},
   "source": [
    "----------------\n",
    "#### Q6.\n",
    "Wally has a `$500 gift card` that he wants to spend at the store where he works. He gets a `25% employee discount`, and the `sales tax rate` is `6.45%`. How much can Wally spend before the discount and tax using only his gift card? (Round to the nearest cent.)\n",
    "#### Solution\n",
    "- Let $x$ be the price that Wally need to use, then we have: \n",
    "\n",
    "> 500 = x*(`1` + `6.45%`)*(`1` - `25%`) = 0.798 x\n",
    "\n",
    "- Hence $x = 626.27$"
   ]
  },
  {
   "cell_type": "markdown",
   "metadata": {},
   "source": [
    "----------------\n",
    "#### Q7.\n",
    "Vanessa purchased an mp3 player, originally priced at $290, but discounted by $27. Approximately what percent discount did Vanessa receive on the mp3 player?"
   ]
  },
  {
   "cell_type": "code",
   "execution_count": 5,
   "metadata": {},
   "outputs": [
    {
     "name": "stdout",
     "output_type": "stream",
     "text": [
      "9.31 %\n"
     ]
    }
   ],
   "source": [
    "print(f\"{(100*27/290):.2f} %\")"
   ]
  },
  {
   "cell_type": "markdown",
   "metadata": {},
   "source": [
    "----------------\n",
    "#### Q8.\n",
    "A baseball travels at a rate of `75 ft/sec`.  How long does it take to reach a fence that is `110 yards` away?\n",
    "#### Solution\n",
    "We have the `convert-rate (feet / yard)` $r = \\dfrac{1}{3}$ hence the speed is equivalent to\n",
    "$$ s_{\\text{by-yard}} = \\dfrac{ 75 \\text{ (ft/sec)} }{3} = 25 \\; \\text{ (yards/sec)} $$\n",
    "So this will take\n",
    "$$ t = \\dfrac{110}{s_{\\text{by-yard}}} = 4.4 \\text{ (sec)} $$"
   ]
  },
  {
   "cell_type": "code",
   "execution_count": 6,
   "metadata": {},
   "outputs": [
    {
     "name": "stdout",
     "output_type": "stream",
     "text": [
      "4.40 seconds\n"
     ]
    }
   ],
   "source": [
    "v_feet = 75\n",
    "feet_to_yard = 1/3\n",
    "length_by_yard = 110\n",
    "print(f\"{ ( length_by_yard / (v_feet*feet_to_yard) ) :.2f} seconds\")"
   ]
  },
  {
   "cell_type": "markdown",
   "metadata": {},
   "source": [
    "----------------\n",
    "#### Q9.\n",
    "It takes Jim `30 minutes` to drive to work and `45 minutes` to drive home from work.  What is Jim's average driving speed in `miles per hour` if Jim lives `25 miles` from work?\n",
    "#### Solution"
   ]
  },
  {
   "cell_type": "code",
   "execution_count": 7,
   "metadata": {},
   "outputs": [
    {
     "data": {
      "text/plain": [
       "40.0"
      ]
     },
     "execution_count": 7,
     "metadata": {},
     "output_type": "execute_result"
    }
   ],
   "source": [
    "time_to_work = 30\n",
    "time_to_home = 45\n",
    "distance_ = 25\n",
    "average_speed = (2*distance_)/(time_to_work + time_to_home)\n",
    "average_speed * 60"
   ]
  },
  {
   "cell_type": "markdown",
   "metadata": {},
   "source": [
    "----------------\n",
    "#### Q10.\n",
    "If 2 machines working at the same rate create 88 widgets in 4 minutes, how many widgets can 5 machines make in 2 minutes, working at the same rate?"
   ]
  },
  {
   "cell_type": "code",
   "execution_count": 8,
   "metadata": {},
   "outputs": [
    {
     "data": {
      "text/plain": [
       "110"
      ]
     },
     "execution_count": 8,
     "metadata": {},
     "output_type": "execute_result"
    }
   ],
   "source": [
    "speed_per_machine_per_min = 88 / 4 / 2\n",
    "n_machines = 5\n",
    "n_minutes = 2\n",
    "n_widgets = speed_per_machine_per_min * n_machines * n_minutes\n",
    "int(n_widgets)"
   ]
  },
  {
   "cell_type": "markdown",
   "metadata": {},
   "source": [
    "----------------\n",
    "#### Q11.\n",
    "- The `inlet pipe` **leading** into a `water tank` can fill the tank in `45 minutes`; the **`drain`** can empty the tank in `25 minutes`. \n",
    "- One day while draining the tank, someone left the `inlet pipe` on. \n",
    "\n",
    "To the nearest minute, how long did it take for the tank to drain completely?\n",
    "#### Solution\n",
    "Let $V$ be the volumne of the `water-tank` and $x$ is the total-time to finish this job, then we have\n",
    "- the speed of the `inlet pipe` equals to $\\dfrac{V}{45}$ per minute\n",
    "- speed of `drain` equals to $\\dfrac{V}{25}$\n",
    "- the total amount of waters while draining included the `inlet pipe` in $x$ minutes is\n",
    "$$ \\dfrac{xV}{25} - \\dfrac{xV}{45} $$\n",
    "Hence we need to solve the equation\n",
    "$$ \\dfrac{xV}{25} - \\dfrac{xV}{45} = V \\Leftrightarrow x = \\dfrac{1}{ \\left( \\frac{1}{25} - \\frac{1}{45} \\right) } = \\frac{225}{4}$$"
   ]
  },
  {
   "cell_type": "code",
   "execution_count": 9,
   "metadata": {},
   "outputs": [
    {
     "data": {
      "text/plain": [
       "-0.02224199288256228"
      ]
     },
     "execution_count": 9,
     "metadata": {},
     "output_type": "execute_result"
    }
   ],
   "source": [
    "time_fill = 45\n",
    "time_drain = 25\n",
    "1 / (1/time_drain - time_fill)"
   ]
  },
  {
   "cell_type": "markdown",
   "metadata": {},
   "source": [
    "------------------\n",
    "#### Q12.\n",
    "Mark will hire 5 of the 8 job applicants he interviews. In how many different ways can he do this?\n",
    "#### Solution\n",
    "This equals to the combination $C^{5}_8 = \\dfrac{8!}{5! 3!} = \\dfrac{8*7*6}{3*2*1}$"
   ]
  },
  {
   "cell_type": "code",
   "execution_count": 10,
   "metadata": {},
   "outputs": [
    {
     "data": {
      "text/plain": [
       "56.0"
      ]
     },
     "execution_count": 10,
     "metadata": {},
     "output_type": "execute_result"
    }
   ],
   "source": [
    "def factorial(n):\n",
    "    if n <= 1:\n",
    "        return 1\n",
    "    else:\n",
    "        return n*factorial(n-1)\n",
    "\n",
    "factorial(8) / (factorial(5) * factorial(3))"
   ]
  },
  {
   "cell_type": "markdown",
   "metadata": {},
   "source": [
    "-----------------\n",
    "#### Q13.\n",
    "\n",
    "![Alt Text](https://vt-vtwa-assets.varsitytutors.com/vt-vtwa/uploads/problem_question_image/image/1568/Venn.gif)\n",
    "\n",
    "Refer to the Venn diagram. Let universal set U be the set of all natural numbers, `N`. \n",
    "\n",
    "Let \n",
    "- `A` be the set of all multiples of 3; \n",
    "- `B` be the set of all `perfect squares`; \n",
    "- `C` be the set of all `perfect cubes`. \n",
    "\n",
    "Which region of the Venn diagram contains the number `1,728`?\n",
    "#### Solution\n",
    "This is easy to check $1728$ is a multiple of 3 (belongs to `A`) and $1728 = 12^3$ (belongs to `C`) but it is not a `perfect-squares` (not belongs to `B`) \n",
    "\n",
    "Hence it belongs to region `IV`: $A \\cap C \\cap B^c$ where $B^c$ is the `complement` of $B$ in $U$"
   ]
  },
  {
   "cell_type": "code",
   "execution_count": 11,
   "metadata": {},
   "outputs": [
    {
     "data": {
      "text/plain": [
       "(True, False, True)"
      ]
     },
     "execution_count": 11,
     "metadata": {},
     "output_type": "execute_result"
    }
   ],
   "source": [
    "num = 1728\n",
    "\n",
    "def is_perf_squares(num):\n",
    "    temp = round(num**(1/2))\n",
    "    return temp**2 == num\n",
    "\n",
    "def is_perf_cubes(num):\n",
    "    temp = round(num**(1/3))\n",
    "    return temp**3 == num\n",
    "\n",
    "num % 3 == 0, is_perf_squares(num), is_perf_cubes(num)"
   ]
  },
  {
   "cell_type": "markdown",
   "metadata": {},
   "source": [
    "-------------\n",
    "#### Q14.\n",
    "Jessica deposits `$5,000` in a savings account at `6% interest`. The interest is `compounded monthly`. \n",
    "\n",
    "How much will she have in her savings account after 5 years?\n",
    "\n",
    "#### Solution\n",
    "Look at the result below"
   ]
  },
  {
   "cell_type": "code",
   "execution_count": 12,
   "metadata": {},
   "outputs": [
    {
     "data": {
      "text/plain": [
       "6744.2507627465375"
      ]
     },
     "execution_count": 12,
     "metadata": {},
     "output_type": "execute_result"
    }
   ],
   "source": [
    "init_account = 5000\n",
    "rate_interest = 0.06\n",
    "n_years = 5\n",
    "init_account * (1 + rate_interest / 12)**(12 * n_years)"
   ]
  },
  {
   "cell_type": "markdown",
   "metadata": {},
   "source": [
    "----------------\n",
    "#### Q15.\n",
    "Jessica deposits `$5,000` in a savings account that collects `6% simple interest`. How much money will she have accumulated after `5 years`?\n",
    "#### Solution\n",
    "Look at the result below"
   ]
  },
  {
   "cell_type": "code",
   "execution_count": 13,
   "metadata": {},
   "outputs": [
    {
     "data": {
      "text/plain": [
       "6500.0"
      ]
     },
     "execution_count": 13,
     "metadata": {},
     "output_type": "execute_result"
    }
   ],
   "source": [
    "init_account = 5000\n",
    "simple_rate = 0.06\n",
    "n_years = 5\n",
    "init_account * (1 + simple_rate*n_years)"
   ]
  },
  {
   "cell_type": "markdown",
   "metadata": {},
   "source": [
    "----------------\n",
    "#### Q16.\t\n",
    "If it takes `Sally` 3 hours to drive $q$ `miles`, how many hours will it take her to drive $r$ `miles` at the same `rate`?\n",
    "#### Solutions\n",
    "This is easy to check that the `average-speed-rate` of `Sally` equals to $\\dfrac{q}{3}$ hence for $r$ `miles` she will take \n",
    "$$ \\dfrac{r}{\\frac{q}{3}} = \\dfrac{3r}{q} $$\n",
    "\n",
    "-----------------\n",
    "#### Q17\n",
    "A cat runs at a rate of 12 miles per hour. How far does he run in 10 minutes?\n",
    "#### Solution\n",
    "Look at the result below\n"
   ]
  },
  {
   "cell_type": "code",
   "execution_count": 14,
   "metadata": {},
   "outputs": [
    {
     "data": {
      "text/plain": [
       "2.0"
      ]
     },
     "execution_count": 14,
     "metadata": {},
     "output_type": "execute_result"
    }
   ],
   "source": [
    "rate_per_hour = 12\n",
    "rate_per_10_min = 12 / (60 / 10)\n",
    "rate_per_10_min"
   ]
  },
  {
   "cell_type": "markdown",
   "metadata": {},
   "source": [
    "--------------\n",
    "#### Q18\n",
    "Find the equation of the line that is `perpendicular` to the line connecting the points $(0,-4)$ and $(-1,-7)$.\n",
    "#### Solution\n",
    "The `slope` of the given line is \n",
    "$$ \\dfrac{y_2 - y_1}{x_2 - x_1} = \\dfrac{-7 - (-4)}{-1 - 0} = 3 $$\n",
    "Hence the `slope` of the `perpendicular` equals to $-\\dfrac{1}{3}$"
   ]
  },
  {
   "cell_type": "code",
   "execution_count": 15,
   "metadata": {},
   "outputs": [
    {
     "name": "stdout",
     "output_type": "stream",
     "text": [
      "Cần tìm phương trình đường trung trực đi qua 2 điểm (0, -4) và (-1, -7):\n",
      "\tVector chỉ phương của AB: (-1.0, -3.0)\n",
      "\tVector pháp tuyến của AB: (-3.0, 1.0)\n",
      "\tphương trình đường trung trực đi qua trung điểm (-0.5, -5.5) và nhận VTCP là VTPT của AB:\n",
      "\t\t-1.0*(x - -0.5) = -3.0*(y - (-5.5))\n",
      "Hence: y = (-1.0/3.0) x + -5.333\n"
     ]
    }
   ],
   "source": [
    "from math import gcd\n",
    "\n",
    "A = (0, -4)\n",
    "B = (-1, -7)\n",
    "\n",
    "print(f\"Cần tìm phương trình đường trung trực đi qua 2 điểm {A} và {B}:\")\n",
    "x_BA = B[0] - A[0]\n",
    "y_BA = B[1] - A[1]\n",
    "xM = (A[0]+B[0])/2\n",
    "yM = (A[1]+B[1])/2\n",
    "x_cp = x_BA / gcd(x_BA, y_BA)\n",
    "y_cp = y_BA / gcd(x_BA, y_BA)\n",
    "print(f\"\\tVector chỉ phương của AB: {x_cp, y_cp}\")\n",
    "print(f\"\\tVector pháp tuyến của AB: {y_cp, -x_cp}\")\n",
    "print(f\"\\tphương trình đường trung trực đi qua trung điểm ({xM}, {yM}) và nhận VTCP là VTPT của AB:\")\n",
    "print(f\"\\t\\t{x_cp}*(x - {xM}) = {y_cp}*(y - ({yM}))\")\n",
    "print(f\"Hence: y = ({x_cp}/{-y_cp}) x + {(-x_cp / y_cp * xM + yM):.3f}\")"
   ]
  },
  {
   "cell_type": "markdown",
   "metadata": {},
   "source": [
    "-------------\n",
    "#### Q19.\n",
    "In the `xy-plane`, point `(a,b)` lies on a `circle with center at the origin`. The `radius` of the `circle` is `5`. What is the value of $a^2+b^2$?\n",
    "#### Solution\n",
    "This is easy to get $\\forall (a,b) \\in C((0, 0), r))$ then\n",
    "$$ a^2 + b^2 = r^2 = 25 $$\n",
    "\n",
    "-------------\n",
    "#### Q20.\n",
    "Describe the `circle` given by the equation $(x+3)^2+y^2=2$.\n",
    "#### Solution\n",
    "We have\n",
    "$$ (x+3)^2+y^2=2 \\Leftrightarrow (x - (-3))^2 + (y - 0)^2 = \\sqrt{2}^2 $$\n",
    "So, this `circle` takes `center` at $(-3, 0)$ and radius $\\sqrt{2}$"
   ]
  },
  {
   "cell_type": "markdown",
   "metadata": {},
   "source": [
    "------------\n",
    "#### Q21\n",
    "Which of the following pairs of lines are parallel?\n",
    "\n",
    "- &#x2610; A. `(y = 3x + 2)` vs `(y = 3x - 2)`\n",
    "- &#x2610; B. `(y = 2x - 4)` vs `(y = 3x + 5)`\n",
    "- &#x2610; C. `(3x - 2y = 5)` vs `(2x + 3y = 4)`\n",
    "- &#x2610; D. `(y = -4)` vs `(x = 3)`\n",
    "- &#x2610; E. `(1 = 5x + 4y)` vs `(4y - 5x = 1)`\n",
    "\n",
    "#### Solution\n",
    "Among of them, we can see that `option A` gives 2 equal slopes which is $3$ and hence they are parallel\n",
    "\n",
    "\n",
    "------------\n",
    "#### Q22\n",
    "One line includes the points `(A,B)` and `(1,3)`; a second line includes the points `(−A,−B)` and `(2,5)`.  If these lines are parallel, what is the value of `A` ?\n",
    "\n",
    "- 1) B=11\n",
    "- 2) B=15−A\n",
    "\n",
    "#### Solution\n",
    "Firstly, from the pair `(A,B)` and `(1,3)` we obtain the first slope is $ \\dfrac{B-3}{A-1} $\n",
    "\n",
    "Likewise, the second slope is $ \\dfrac{B+5}{A+2} $ \n",
    "\n",
    "To ensure that these lines are parallel then it remains to consider\n",
    "$$ \\dfrac{B-3}{A-1} =  \\dfrac{B+5}{A+2} $$\n",
    "\n",
    "- If $B = 11$ implies $ \\dfrac{8}{A-1} =  \\dfrac{16}{A+2} $ then we deduce $A = 4$\n",
    "- If $B = 15-A$ implies $$ \\dfrac{(15 - A) - 3}{A-1} =  \\dfrac{(15 - A)+5}{A+2} \\Leftrightarrow \\dfrac{12 - A}{A - 1} = \\dfrac{20 - A}{A+2} $$ and again we obtain $A = 4$\n",
    "\n",
    "Hence, `EITHER statement ALONE is sufficient to answer the question.`"
   ]
  },
  {
   "cell_type": "markdown",
   "metadata": {},
   "source": [
    "--------------\n",
    "#### Q23\n",
    "Find the equation of a line that is parallel to `4x−2y=5` and passes through the point `(4,1)`\n",
    "#### Solution\n",
    "The slope will be $2$ hence this must be \n",
    "$$ y = 2x + b $$\n",
    "Moreover, the line passes $(4, 1)$ so\n",
    "$$ 1 = 2*4 + b \\Rightarrow b = -7 $$\n",
    "and the equation is $y = 2x - 7$.\n",
    "\n",
    "--------------\n",
    "#### Q24.\n",
    "What is the distance between the points `(2,5)` and `(7,17)`?\n",
    "#### Solution\n",
    "We have \n",
    "$$ d = \\sqrt{(x_1 - x_2)^2 + (y_1 - y_2^2)} = \\sqrt{(7-2)^2 + (17-5)^2} = 13 $$"
   ]
  },
  {
   "cell_type": "code",
   "execution_count": 16,
   "metadata": {},
   "outputs": [
    {
     "data": {
      "text/plain": [
       "13.0"
      ]
     },
     "execution_count": 16,
     "metadata": {},
     "output_type": "execute_result"
    }
   ],
   "source": [
    "((7 - 2)**2 + (17 - 5)**2)**(1/2)"
   ]
  },
  {
   "cell_type": "markdown",
   "metadata": {},
   "source": [
    "-----------------\n",
    "#### Q25\n",
    "What is the distance between the points `(1,4)` and `(5,2)`?\n",
    "#### Solution\n",
    "Do the samething as in Q24, we obtain $2\\sqrt{5}$\n",
    "\n",
    "-----------------\n",
    "#### Q26\n",
    "The midpoint of a line segment with endpoints `(2A,B)` and `(B+7,3A−2)` is `(9,6)`. What is `A`?\n",
    "#### Solution\n",
    "We have the following system-equation\n",
    "$$ \\left\\{\\begin{matrix} \\dfrac{2A + (B+7)}{2} &=& 9 \\\\ \\\\  \\dfrac{B + (3A-2)}{2} &=& 6 \\end{matrix}\\right. $$\n",
    "and we obtain $A = 3$"
   ]
  },
  {
   "cell_type": "markdown",
   "metadata": {},
   "source": [
    "-----------\n",
    "#### Q27\n",
    "Find the midpoint of the points `(2,9)` and `(4,3)`\n",
    "#### Solution\n",
    "This is easy to get\n",
    "$$ \\left( \\dfrac{x_1 + x_2}{2}, \\dfrac{y_1+y_2}{2} \\right) = \\left( 3, 6 \\right) $$\n",
    "\n",
    "-----------\n",
    "#### Q28\n",
    "What is the midpoint of `(−5,1)` and `(1,4)`?\n",
    "#### Solution\n",
    "Again, we get \n",
    "$$ \\left( \\dfrac{-5 + 1}{2}, \\dfrac{1+4}{2} \\right) = \\left( -2, \\frac{5}{2} \\right) $$\n",
    "\n",
    "----------\n",
    "#### Q29\n",
    "In the `xy-plane`, what is the `slope` of the line with equation `4x+5y=8` ?\n",
    "#### Solution\n",
    "We have $$ 4x+5y=8 \\Leftrightarrow y = \\dfrac{-4}{5}x + \\dfrac{8}{5} $$\n",
    "so the slope is $\\dfrac{-4}{5}$."
   ]
  },
  {
   "cell_type": "markdown",
   "metadata": {},
   "source": [
    "------------\n",
    "#### Q30\n",
    "Find the equation of the line through the points `(4,−2)` and `(1,7)`.\n",
    "#### Solution\n",
    "- First, the slope is: $ \\dfrac{y_2 - y_1}{x_2 - x_1} = \\dfrac{7 - (-2)}{1 - 4} =-3 $\n",
    "- Next, we have the equation\n",
    "$$ y = -3x + b $$\n",
    "passed `(1,7)` hence $7 = -3*1 + b$ or $b=10$"
   ]
  },
  {
   "cell_type": "markdown",
   "metadata": {},
   "source": [
    "---------\n",
    "#### Q31\n",
    "On average, `Stephanie` walks $2\\pi$ feet every `4 seconds`. If Stephanie walks at her usual pace, how long will it take her to walk around a `circular` track with a radius of `200 feet, in seconds`?\n",
    "#### Solution\n",
    "- Firstly, the average-speed per second is $\\dfrac{2\\pi}{4} = \\dfrac{pi}{2}$ (`feet / sec`)\n",
    "- The `circular` of the `radius=200 feet` is $2\\pi r = 400 \\pi$\n",
    "- Hence, she needs $\\dfrac{400 \\pi}{ \\frac{pi}{2} } = 800$ (`seconds`)"
   ]
  },
  {
   "cell_type": "markdown",
   "metadata": {},
   "source": [
    "-----------\n",
    "#### Q32\n",
    "For `$10`, Brandon can order either `a 12\"-diameter pizza`, `two 6\"-diameter pizzas`, or `three 4\"-diameter pizzas`. \n",
    "\n",
    "Which option is the best value, assuming all pizzas are the same thickness? \n",
    "\n",
    "#### Solutions\n",
    "For the same thickness, then \n",
    "- the `12\" diameter` gives the `areas`: $36 \\pi$\n",
    "- the `6\" diameter` gives the `areas`: $9 \\pi$ then the total area of `two 6\"-diameter pizzas` is $18 \\pi$\n",
    "- the `4\" diameter` gives the `areas`: $4 \\pi$ then the total area of `three 4\"-diameter pizzas` is $12 \\pi$\n",
    "\n",
    "Hence the first option will be the best"
   ]
  },
  {
   "cell_type": "markdown",
   "metadata": {},
   "source": [
    "-----------\n",
    "#### Q33\n",
    "A `circle` is inscribed in a square with `area` `100`.  What is the area of the circle?\n",
    "#### Solution\n",
    "We have the `diameter` of the circle equals to the edge of the square = $\\sqrt{100} = 10$ which give the `radius` equals to $5$, hence the area of the circle is $\\pi r^2 = 25 \\pi$\n",
    "\n",
    "-------------\n",
    "#### Q34\n",
    "Find the `center` of the `circle` that has a `diameter` with endpoints at `(−4,4)` and `(0,2)`.\n",
    "#### Solution\n",
    "The center will be the mid-point of 2 points from the diameter, hence $\\left( \\dfrac{0+(-4)}{2}, \\dfrac{2+4}{2} \\right) = (-2, 3)$"
   ]
  },
  {
   "cell_type": "markdown",
   "metadata": {},
   "source": [
    "------------\n",
    "#### Q35\n",
    "What is the perimeter of a `30-60-90 triangle`?\n",
    "- 1) One of the sides measures 10 inches.\n",
    "- 2) One of the sides measures 20 inches.\n",
    "#### Solution\n",
    "From the `30-60-90 triangle` we obtain the `hypotenuse` is twice times the `smallest`\n",
    "- If we use only one statement, we can not ensure the length of the other edges\n",
    "- Both of these statements implied that `hypotenuse = 20` and the `shortest = 10` hence the other side = $\\sqrt{20^2 - 10^2} = 10\\sqrt{3}$ and hence the perimeter is $30+10\\sqrt{3}$.\n",
    "\n",
    "--------------\n",
    "#### Q36.\n",
    "Which set of side lengths cannot be the side lengths of a right triangle?\n",
    "- A. `(3,4,5)`, \n",
    "- B. `(45, 55, 75)`, \n",
    "- C. `(28,45,53)`\n",
    "- D. `(48, 64, 80)`\n",
    "\n",
    "#### Solution\n",
    "Look at the output below"
   ]
  },
  {
   "cell_type": "code",
   "execution_count": 17,
   "metadata": {},
   "outputs": [
    {
     "name": "stdout",
     "output_type": "stream",
     "text": [
      "|       input:       | is_right-triangle  |\n",
      "|     (3, 4, 5)      |        True        |\n",
      "|    (45, 55, 75)    |       False        |\n",
      "|    (28, 45, 53)    |        True        |\n",
      "|    (48, 64, 80)    |        True        |\n"
     ]
    }
   ],
   "source": [
    "def is_right_triangle(a, b, c):\n",
    "    ls = [a, b, c]\n",
    "    hypotenus = max(a, b, c)\n",
    "    ls.remove(hypotenus)\n",
    "    x, y = ls\n",
    "    return x**2 + y**2 == hypotenus**2\n",
    "#======================================\n",
    "check_list = [(3,4,5), (45, 55, 75), (28,45,53), (48, 64, 80)]\n",
    "print(f\"|{'input:': ^20}|{'is_right-triangle': ^20}|\")\n",
    "for a,b,c in check_list:\n",
    "    res = str(is_right_triangle(a,b,c))\n",
    "    inp = f\"{(a,b,c)}\"\n",
    "    print(f\"|{inp: ^20}|{res: ^20}|\")"
   ]
  },
  {
   "cell_type": "markdown",
   "metadata": {},
   "source": [
    "-------------\n",
    "#### Q37\n",
    "There is a big square that consists of four `identical right triangles` and a `small square`. If the area of the small square is 1, the area of the `big square` is 5, what is the length of the `shortest side` of the right triangles?\n",
    "\n",
    "![Alt Text](https://lh5.googleusercontent.com/MYKpQsFLflSpUTG93WEBpVueH4IAsaZr-oGP-IYqdWMv6AsxzPfMzx9IMMKweEqWvi4aUXS0xYFzXDCu--ns40n4mc89_06JVliMRIvRclfZNjV3_BFN5VO6iw)\n",
    "\n",
    "#### Solution\n",
    "- The `area` of the big-square is $5$ meant its edge equals to $\\sqrt{5}$\n",
    "- The `area` of the small-square is $1$ meant its edge equals to $1$\n",
    "- The `area` of others 4 `identical right triangles` is $5 - 1 = 4$ and each of them has area = $1$\n",
    "- So each `right triangles` has hypotenus $\\sqrt{5}$ and the length of the `shortest side` will equal to \n",
    "$$ \\min\\left(1 , \\sqrt{ \\sqrt{5}^2 - 1 } \\right) = 1 $$"
   ]
  },
  {
   "cell_type": "markdown",
   "metadata": {},
   "source": [
    "---------\n",
    "#### Q38\n",
    "A `triangle` has sides of length `9, 12`, and `16`. Which of the following statements is true?\n",
    "#### Solution\n",
    "- The triangle exists since it satisfied all the triangle-inequalities\n",
    "- Moreover, by cos-theorem we have\n",
    "$$ 9^2 + 12^2 < 16^2 $$\n",
    "which leads the triangle is `obtuse`.\n",
    "\n",
    "-------\n",
    "#### Q39\n",
    "What is the hypotenuse of a right triangle with sides 14 and 48?\n",
    "#### Solution\n",
    "- Suppose $48$ can be `hypotenuse` then the other side must be $\\sqrt{48^2 - 14^2} = 45.91$\n",
    "- Otherwise, the `hypotenuse` will equal to $\\sqrt{48^2 + 14^2} = 50$"
   ]
  },
  {
   "cell_type": "code",
   "execution_count": 18,
   "metadata": {},
   "outputs": [
    {
     "data": {
      "text/plain": [
       "(45.91296113299599, 50.0)"
      ]
     },
     "execution_count": 18,
     "metadata": {},
     "output_type": "execute_result"
    }
   ],
   "source": [
    "(48**2 - 14**2)**0.5, (48**2 + 14**2)**0.5"
   ]
  },
  {
   "cell_type": "markdown",
   "metadata": {},
   "source": [
    "-------------\n",
    "#### Q40\n",
    "Is nonzero number N positive or negative?\n",
    "- Statement 1: $N+|N|=0$\n",
    "- Statement 2: $N^2+5N<0$\n",
    "\n",
    "#### Solution\n",
    "For all non-zero $N$,\n",
    "\n",
    "- The first statement $N + |N| = 0$ leads to $N = -|N|$ and hence $N < 0$ or $N$ is `negative`\n",
    "- The last statement \n",
    "$$ N^2+5N<0 \\Leftrightarrow N \\in (-5, 0) $$\n",
    "or $N$ is `negative` greater than $-5$\n",
    "\n",
    "Hence `EITHER statement ALONE is sufficient to answer the question`"
   ]
  }
 ],
 "metadata": {
  "kernelspec": {
   "display_name": "Python 3",
   "language": "python",
   "name": "python3"
  },
  "language_info": {
   "codemirror_mode": {
    "name": "ipython",
    "version": 3
   },
   "file_extension": ".py",
   "mimetype": "text/x-python",
   "name": "python",
   "nbconvert_exporter": "python",
   "pygments_lexer": "ipython3",
   "version": "3.10.13"
  }
 },
 "nbformat": 4,
 "nbformat_minor": 2
}
