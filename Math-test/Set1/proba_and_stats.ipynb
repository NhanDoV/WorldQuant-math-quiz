{
 "cells": [
  {
   "cell_type": "markdown",
   "metadata": {},
   "source": [
    "### 1. Combination & factorial\n",
    "\n",
    "Given a `binary string` of $N=10$ elements $0$'s and $M=12$ elements $1$'s, how many unique permutations of this string start with $1$ ?\n",
    "\n",
    "#### Solution\n",
    "- Generally, any array of length $L$ with $K$ different letters $x_1, \\ldots, x_K$ with the corresponding frequencies $N_1, \\ldots, N_K$, that meant\n",
    "$$ 0 < N_i \\leq N - K \\quad \\forall i \\in 1, \\ldots, N \\text{ and satisfied } \\sum_{i=1}^K N_i = N $$\n",
    "Then number of ways to re-arrange all the letters in this strings is \n",
    "$$ \\dfrac{N!}{N_1 ! \\times N_2 ! \\times \\ldots \\times N_K!} $$\n",
    "- In the case that the string of $N+M$ elements (including $N$ values of $0$ and $M$ values of $1$), but here we fixed the first element by $1$ then we only consider length $N+M-1$ with $M-1$ remained values of $1$ and $N$ of $0$ so the numbers of permutaions will be\n",
    "$$ \\dfrac{(N+M-1)!}{(M - 1)! \\times N!} = \\dfrac{12.13 \\ldots 21}{1.2 \\ldots 10}$$"
   ]
  },
  {
   "cell_type": "code",
   "execution_count": 12,
   "metadata": {},
   "outputs": [
    {
     "name": "stdout",
     "output_type": "stream",
     "text": [
      "For N:10 and M:12 then number of permutation by factorial: 352716\n",
      "Program finish after 0.000000 seconds\n"
     ]
    }
   ],
   "source": [
    "import time\n",
    "def factorial(n):\n",
    "    if n == 0:\n",
    "        return 1\n",
    "    else:\n",
    "        return n*factorial(n-1)\n",
    "n = int(input()) # 10\n",
    "m = int(input()) # 12\n",
    "t0 = time.time()\n",
    "print(f\"For N:{n} and M:{m} then number of permutation by factorial: {factorial(n + m - 1) // (factorial(n) * factorial(m-1))}\\nProgram finish after {(time.time() - t0):.6f} seconds\")"
   ]
  },
  {
   "cell_type": "markdown",
   "metadata": {},
   "source": [
    "Also, we will have the faster way to find this result (in case the very large numbers)"
   ]
  },
  {
   "cell_type": "code",
   "execution_count": 33,
   "metadata": {},
   "outputs": [
    {
     "name": "stdout",
     "output_type": "stream",
     "text": [
      "For N:10 and M:12 then number of permutation by factorial: 352716\n",
      "Program finish after 0.000000 seconds\n"
     ]
    }
   ],
   "source": [
    "t0 = time.time()\n",
    "res = 1\n",
    "for k in range(m, n+m):\n",
    "    res *= k / (k - n - 1)\n",
    "print(f\"For N:{n} and M:{m} then number of permutation by factorial: {int(res)}\\nProgram finish after {(time.time() - t0):.6f} seconds\")"
   ]
  },
  {
   "cell_type": "markdown",
   "metadata": {},
   "source": [
    "### 2. Conditional expectation"
   ]
  },
  {
   "cell_type": "code",
   "execution_count": null,
   "metadata": {},
   "outputs": [],
   "source": []
  }
 ],
 "metadata": {
  "kernelspec": {
   "display_name": "Python 3",
   "language": "python",
   "name": "python3"
  },
  "language_info": {
   "codemirror_mode": {
    "name": "ipython",
    "version": 3
   },
   "file_extension": ".py",
   "mimetype": "text/x-python",
   "name": "python",
   "nbconvert_exporter": "python",
   "pygments_lexer": "ipython3",
   "version": "3.11.3"
  }
 },
 "nbformat": 4,
 "nbformat_minor": 2
}
