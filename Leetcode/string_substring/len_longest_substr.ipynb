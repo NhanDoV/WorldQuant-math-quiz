{
 "cells": [
  {
   "cell_type": "code",
   "execution_count": null,
   "metadata": {},
   "outputs": [],
   "source": [
    "print([(f'ord({w})', ord(w)) for w in ['a', 'A', '1', '#']])\n",
    "\n",
    "class Solution:\n",
    "    def lengthOfLongestSubstring(self, s: str) -> int:\n",
    "        letter_to_index = {}\n",
    "        max_length = 0\n",
    "        substr_begin = 0\n",
    "        for i, c in enumerate(s):\n",
    "            if c in letter_to_index:\n",
    "                #print(f\"Find substring `{s[substr_begin: letter_to_index[c]+1]}` in the string `{s}` until meeting the repeating characters {s[letter_to_index[c] + 1]}\")\n",
    "                substr_begin = max(letter_to_index[c] + 1, substr_begin)\n",
    "            letter_to_index[c] = i\n",
    "            max_length = max(max_length, i + 1 - substr_begin)\n",
    "\n",
    "        return str(max_length)\n",
    "#================================================================================\n",
    "s = Solution()\n",
    "print(f\"{'main.string': <10}{'length of longest substring': ^40}\")\n",
    "for string in ['pwwkew', 'abcabcaa', 'bbbb', \"\", \" \", \"au\", \"c\", \"aam\", \"aabaab!bb\"]:\n",
    "    print(f\"{string: <10}{s.lengthOfLongestSubstring(string): ^40}\")"
   ]
  }
 ],
 "metadata": {
  "language_info": {
   "name": "python"
  }
 },
 "nbformat": 4,
 "nbformat_minor": 2
}
