{
 "cells": [
  {
   "cell_type": "markdown",
   "metadata": {},
   "source": [
    "# Description\n",
    "[Reference](https://leetcode.com/problems/longest-substring-without-repeating-characters/)\n",
    "\n",
    "Given a string `s`, find the length of the **longest substring** `without repeating characters`. For example,\n",
    "- `s = \"abcabcaa\"` then the longest substring is `abc` with length `3`\n",
    "- `s = \"dddd\"` then the longest substring is `d` with length `1`\n",
    "- `s = \"pwwkew\"` then the longest substring is `wke` with length `3`"
   ]
  },
  {
   "cell_type": "code",
   "execution_count": null,
   "metadata": {},
   "outputs": [
    {
     "ename": "",
     "evalue": "",
     "output_type": "error",
     "traceback": [
      "\u001b[1;31mRunning cells with '/usr/bin/python' requires the ipykernel package.\n",
      "\u001b[1;31mRun the following command to install 'ipykernel' into the Python environment. \n",
      "\u001b[1;31mCommand: '/usr/bin/python -m pip install ipykernel -U --user --force-reinstall'"
     ]
    }
   ],
   "source": [
    "strings = 'abcdac'\n",
    "set_of_char = set([w for w in strings])\n",
    "print(f\"{'char': ^6}{'indexes': ^10}\")\n",
    "for w in set_of_char:\n",
    "    print(f\"{w: ^6}{str([i for i, ltr in enumerate(strings) if ltr == w]): ^10}\")"
   ]
  },
  {
   "cell_type": "markdown",
   "metadata": {},
   "source": [
    "By this way, we will find the substring by looking the 2 last indexes of all characters"
   ]
  },
  {
   "cell_type": "code",
   "execution_count": null,
   "metadata": {},
   "outputs": [
    {
     "ename": "",
     "evalue": "",
     "output_type": "error",
     "traceback": [
      "\u001b[1;31mRunning cells with '/usr/bin/python' requires the ipykernel package.\n",
      "\u001b[1;31mRun the following command to install 'ipykernel' into the Python environment. \n",
      "\u001b[1;31mCommand: '/usr/bin/python -m pip install ipykernel -U --user --force-reinstall'"
     ]
    }
   ],
   "source": [
    "len_tup = [('a',[0, 4],4), ('b',[2,5],3), ('c',[3],0)]\n",
    "max(len_tup, key=lambda item: item[2])[2]"
   ]
  },
  {
   "cell_type": "code",
   "execution_count": null,
   "metadata": {},
   "outputs": [
    {
     "ename": "",
     "evalue": "",
     "output_type": "error",
     "traceback": [
      "\u001b[1;31mRunning cells with '/usr/bin/python' requires the ipykernel package.\n",
      "\u001b[1;31mRun the following command to install 'ipykernel' into the Python environment. \n",
      "\u001b[1;31mCommand: '/usr/bin/python -m pip install ipykernel -U --user --force-reinstall'"
     ]
    }
   ],
   "source": [
    "for strings in ['abcdac', 'abcabcaa', 'bbbb', 'pwwkew', \"12a#a\"]:\n",
    "    print(f\"For string = {strings}\\n{60*'-'}\")\n",
    "    set_of_char = set([w for w in strings])\n",
    "    len_tup = []\n",
    "    print(f\"{'char': ^6}{'indexes': ^10}{'diff-of-2-last.indexes[if-existed]': <15}\")\n",
    "    for w in set_of_char:\n",
    "        ls_idx = [i for i, ltr in enumerate(strings) if ltr == w]\n",
    "        if len(ls_idx) >= 2:\n",
    "            print(f\"{w: ^6}{str(ls_idx): ^10}{str(ls_idx[-1] - ls_idx[-2]): >15}\")\n",
    "            len_tup.append( (w, ls_idx[-2:], ls_idx[-1] - ls_idx[-2]) )\n",
    "        else:\n",
    "            print(f\"{w: ^6}{str(ls_idx): ^10}{'None': >15}\")\n",
    "            len_tup.append( (w, ls_idx[-1], 1) )\n",
    "    last_idx = max(len_tup, key=lambda item: item[2])[1]\n",
    "    print(f\"Length of longest substring: {max(len_tup, key=lambda item: item[2])[2]} with `{strings[last_idx[0]: last_idx[1]]}`\")\n",
    "    print(60*\"=\")"
   ]
  },
  {
   "cell_type": "markdown",
   "metadata": {},
   "source": [
    "#### Disadvantage\n",
    "- In these examples above, we can see that almost the strings \"**`abcd`**`ac`\", \"**`b`**`bbb`\", \"`pw`**wke**`w`\" has the right answers\n",
    "- But in \"`abc`**`abc`**`aa`\" we expected that the answers is `\"abc\"`, similarly for **`12a#`**`a` is \"`12a#`\"\n",
    "- Also, what will happen if our strings is empty `\"\"` or even contained many space `\"abc poa #$%\"`\n",
    "\n",
    "=> **Caution & Solution?**\n",
    "- In `\"abcabcaa\"` we have applied the difference on the 2 last indexes so we received `abc` since this belongs to `[1, 4]`. Likewise for the `\"12a#a\"`\n",
    "- To have the better results, we will find the index & the substring ended by the letter corresponding to the index"
   ]
  },
  {
   "cell_type": "code",
   "execution_count": null,
   "metadata": {},
   "outputs": [
    {
     "ename": "",
     "evalue": "",
     "output_type": "error",
     "traceback": [
      "\u001b[1;31mRunning cells with '/usr/bin/python' requires the ipykernel package.\n",
      "\u001b[1;31mRun the following command to install 'ipykernel' into the Python environment. \n",
      "\u001b[1;31mCommand: '/usr/bin/python -m pip install ipykernel -U --user --force-reinstall'"
     ]
    }
   ],
   "source": [
    "def lengthOfLongestSubstring(s: str):\n",
    "    letter_to_index = {}\n",
    "    max_length = 0\n",
    "    substr_begin = 0\n",
    "    s_ls = []\n",
    "    print(f\"{'char': ^6}{'index|step': ^15}{'letter2index': <36}{'if.char.in.list.at-this.step': <27}{'sub.string': ^20}{'max-len': ^10}\")\n",
    "    for i, c in enumerate(s):\n",
    "        cond = str(c in letter_to_index)\n",
    "        if c in letter_to_index:\n",
    "            substr_begin = max(letter_to_index[c] + 1, substr_begin)\n",
    "            s_ls.append( (cond, max(max_length, i + 1 - substr_begin), s[i-max_length: i]) )      \n",
    "        letter_to_index[c] = i\n",
    "        max_length = max(max_length, i + 1 - substr_begin)\n",
    "        print(f\"{f'`{c}`': ^6}{str(i): ^15}{str(letter_to_index): <36}{cond: ^27}{s[i-max_length: i]: ^20}{max_length: ^10}\")                    \n",
    "    \n",
    "    if len(s) == max_length:\n",
    "        substr = s\n",
    "    else:\n",
    "        print(s_ls, s_ls[0])      \n",
    "        substr = max(s_ls, key=lambda item: item[1])[-1] # s[i-max_length: i]\n",
    "        \n",
    "    print(f\"{120*'.'}\\nFor main.string `{s}` then the last longest substring: '{substr}' has length = {max_length}\")\n",
    "    return str(max_length)\n",
    "\n",
    "for string in [\"abcabca\", \"pwwkew\", \"abcdabcaa\", \"12a$a\", \"aaa\", \"ab\", \" \", 'aabaab!bb']:\n",
    "    print(f\"{50*'='}{f'INPUT : `{string}`': ^20}{50*'='}\")\n",
    "    lengthOfLongestSubstring(string)"
   ]
  },
  {
   "cell_type": "markdown",
   "metadata": {},
   "source": [
    "Moreover, you can consider the unicode of each character "
   ]
  },
  {
   "cell_type": "code",
   "execution_count": null,
   "metadata": {},
   "outputs": [
    {
     "ename": "",
     "evalue": "",
     "output_type": "error",
     "traceback": [
      "\u001b[1;31mRunning cells with '/usr/bin/python' requires the ipykernel package.\n",
      "\u001b[1;31mRun the following command to install 'ipykernel' into the Python environment. \n",
      "\u001b[1;31mCommand: '/usr/bin/python -m pip install ipykernel -U --user --force-reinstall'"
     ]
    }
   ],
   "source": [
    "print(f\"{'character': ^15}{'unicode-ascii': ^15}\")\n",
    "for char in ['a', 'b', 'A', '!', '*', '?']:\n",
    "    print(f\"{char: ^15}{str(ord(char)): ^15}\")"
   ]
  },
  {
   "cell_type": "markdown",
   "metadata": {},
   "source": [
    "#### Final solution"
   ]
  },
  {
   "cell_type": "code",
   "execution_count": null,
   "metadata": {},
   "outputs": [
    {
     "ename": "",
     "evalue": "",
     "output_type": "error",
     "traceback": [
      "\u001b[1;31mRunning cells with '/usr/bin/python' requires the ipykernel package.\n",
      "\u001b[1;31mRun the following command to install 'ipykernel' into the Python environment. \n",
      "\u001b[1;31mCommand: '/usr/bin/python -m pip install ipykernel -U --user --force-reinstall'"
     ]
    }
   ],
   "source": [
    "class Solution:\n",
    "    def lengthOfLongestSubstring(self, s: str) -> int:\n",
    "        letter_to_index = {}\n",
    "        max_length = 0\n",
    "        substr_begin = 0\n",
    "        for i, c in enumerate(s):\n",
    "            if c in letter_to_index:\n",
    "                #print(f\"Find substring `{s[substr_begin: letter_to_index[c]+1]}` in the string `{s}` until meeting the repeating characters {s[letter_to_index[c] + 1]}\")\n",
    "                substr_begin = max(letter_to_index[c] + 1, substr_begin)\n",
    "            letter_to_index[c] = i\n",
    "            max_length = max(max_length, i + 1 - substr_begin)\n",
    "\n",
    "        return str(max_length)\n",
    "#================================================================================\n",
    "s = Solution()\n",
    "print(f\"{'main.string': <15}{'len(main.str)': ^15}{'length.of.longest.substring': ^40}\")\n",
    "for string in [\"abcdac\", 'pwwkew', 'abcabcaa', 'bbbb', \"\", \"12a#a\", \" \", \"au\", \"c\", \"aam\", \"aabaab!bb\", \"abc, opa$ c\"]:\n",
    "    l = len(string)\n",
    "    string = f\"'{string}'\"\n",
    "    print(f\"{string: <15}{l: ^15}{s.lengthOfLongestSubstring(string): ^40}\")"
   ]
  }
 ],
 "metadata": {
  "kernelspec": {
   "display_name": "Python 3",
   "language": "python",
   "name": "python3"
  },
  "language_info": {
   "codemirror_mode": {
    "name": "ipython",
    "version": 3
   },
   "file_extension": ".py",
   "mimetype": "text/x-python",
   "name": "python",
   "nbconvert_exporter": "python",
   "pygments_lexer": "ipython3",
   "version": "3.11.6"
  }
 },
 "nbformat": 4,
 "nbformat_minor": 2
}
