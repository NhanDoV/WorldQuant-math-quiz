{
 "cells": [
  {
   "cell_type": "markdown",
   "metadata": {},
   "source": [
    "# Description\n",
    "[Reference](https://leetcode.com/problems/longest-substring-without-repeating-characters/)\n",
    "\n",
    "Given a string `s`, find the length of the **longest substring** `without repeating characters`. For example,\n",
    "- `s = \"abcabcaa\"` then the longest substring is `abc` with length `3`\n",
    "- `s = \"dddd\"` then the longest substring is `d` with length `1`\n",
    "- `s = \"pwwkew\"` then the longest substring is `wke` with length `3`"
   ]
  },
  {
   "cell_type": "code",
   "execution_count": 1,
   "metadata": {},
   "outputs": [
    {
     "name": "stdout",
     "output_type": "stream",
     "text": [
      " char  indexes  \n",
      "  b      [1]    \n",
      "  d      [3]    \n",
      "  a     [0, 4]  \n",
      "  c     [2, 5]  \n"
     ]
    }
   ],
   "source": [
    "strings = 'abcdac'\n",
    "set_of_char = set([w for w in strings])\n",
    "print(f\"{'char': ^6}{'indexes': ^10}\")\n",
    "for w in set_of_char:\n",
    "    print(f\"{w: ^6}{str([i for i, ltr in enumerate(strings) if ltr == w]): ^10}\")"
   ]
  },
  {
   "cell_type": "markdown",
   "metadata": {},
   "source": [
    "By this way, we will find the substring by looking the 2 last indexes of all characters"
   ]
  },
  {
   "cell_type": "code",
   "execution_count": 2,
   "metadata": {},
   "outputs": [
    {
     "data": {
      "text/plain": [
       "4"
      ]
     },
     "execution_count": 2,
     "metadata": {},
     "output_type": "execute_result"
    }
   ],
   "source": [
    "len_tup = [('a',[0, 4],4), ('b',[2,5],3), ('c',[3],0)]\n",
    "max(len_tup, key=lambda item: item[2])[2]"
   ]
  },
  {
   "cell_type": "code",
   "execution_count": 3,
   "metadata": {},
   "outputs": [
    {
     "name": "stdout",
     "output_type": "stream",
     "text": [
      "For string = abcdac\n",
      "------------------------------------------------------------\n",
      " char  indexes  diff-of-2-last.indexes[if-existed]\n",
      "  b      [1]               None\n",
      "  d      [3]               None\n",
      "  a     [0, 4]                4\n",
      "  c     [2, 5]                3\n",
      "Length of longest substring: 4 with `abcd`\n",
      "============================================================\n",
      "For string = abcabcaa\n",
      "------------------------------------------------------------\n",
      " char  indexes  diff-of-2-last.indexes[if-existed]\n",
      "  b     [1, 4]                3\n",
      "  a   [0, 3, 6, 7]              1\n",
      "  c     [2, 5]                3\n",
      "Length of longest substring: 3 with `bca`\n",
      "============================================================\n",
      "For string = bbbb\n",
      "------------------------------------------------------------\n",
      " char  indexes  diff-of-2-last.indexes[if-existed]\n",
      "  b   [0, 1, 2, 3]              1\n",
      "Length of longest substring: 1 with `b`\n",
      "============================================================\n",
      "For string = pwwkew\n",
      "------------------------------------------------------------\n",
      " char  indexes  diff-of-2-last.indexes[if-existed]\n",
      "  k      [3]               None\n",
      "  e      [4]               None\n",
      "  p      [0]               None\n",
      "  w   [1, 2, 5]               3\n",
      "Length of longest substring: 3 with `wke`\n",
      "============================================================\n",
      "For string = 12a#a\n",
      "------------------------------------------------------------\n",
      " char  indexes  diff-of-2-last.indexes[if-existed]\n",
      "  #      [3]               None\n",
      "  a     [2, 4]                2\n",
      "  1      [0]               None\n",
      "  2      [1]               None\n",
      "Length of longest substring: 2 with `a#`\n",
      "============================================================\n"
     ]
    }
   ],
   "source": [
    "for strings in ['abcdac', 'abcabcaa', 'bbbb', 'pwwkew', \"12a#a\"]:\n",
    "    print(f\"For string = {strings}\\n{60*'-'}\")\n",
    "    set_of_char = set([w for w in strings])\n",
    "    len_tup = []\n",
    "    print(f\"{'char': ^6}{'indexes': ^10}{'diff-of-2-last.indexes[if-existed]': <15}\")\n",
    "    for w in set_of_char:\n",
    "        ls_idx = [i for i, ltr in enumerate(strings) if ltr == w]\n",
    "        if len(ls_idx) >= 2:\n",
    "            print(f\"{w: ^6}{str(ls_idx): ^10}{str(ls_idx[-1] - ls_idx[-2]): >15}\")\n",
    "            len_tup.append( (w, ls_idx[-2:], ls_idx[-1] - ls_idx[-2]) )\n",
    "        else:\n",
    "            print(f\"{w: ^6}{str(ls_idx): ^10}{'None': >15}\")\n",
    "            len_tup.append( (w, ls_idx[-1], 1) )\n",
    "    last_idx = max(len_tup, key=lambda item: item[2])[1]\n",
    "    print(f\"Length of longest substring: {max(len_tup, key=lambda item: item[2])[2]} with `{strings[last_idx[0]: last_idx[1]]}`\")\n",
    "    print(60*\"=\")"
   ]
  },
  {
   "cell_type": "markdown",
   "metadata": {},
   "source": [
    "#### Disadvantage\n",
    "- In these examples above, we can see that almost the strings \"**`abcd`**`ac`\", \"**`b`**`bbb`\", \"`pw`**wke**`w`\" has the right answers\n",
    "- But in \"`abc`**`abc`**`aa`\" we expected that the answers is `\"abc\"`, similarly for **`12a#`**`a` is \"`12a#`\"\n",
    "- Also, what will happen if our strings is empty `\"\"` or even contained many space `\"abc poa #$%\"`\n",
    "\n",
    "=> **Caution & Solution?**\n",
    "- In `\"abcabcaa\"` we have applied the difference on the 2 last indexes so we received `abc` since this belongs to `[1, 4]`. Likewise for the `\"12a#a\"`\n",
    "- To have the better results, we will find the index & the substring ended by the letter corresponding to the index"
   ]
  },
  {
   "cell_type": "code",
   "execution_count": 7,
   "metadata": {},
   "outputs": [
    {
     "name": "stdout",
     "output_type": "stream",
     "text": [
      "================================================== INPUT : `abcabca`  ==================================================\n",
      " char   index|step   letter2index                        if.char.in.list.at-this.step     sub.string      max-len  \n",
      " `a`         0       {'a': 0}                                       False                                   1     \n",
      " `b`         1       {'a': 0, 'b': 1}                               False                                   2     \n",
      " `c`         2       {'a': 0, 'b': 1, 'c': 2}                       False                                   3     \n",
      " `a`         3       {'a': 3, 'b': 1, 'c': 2}                       True                    abc             3     \n",
      " `b`         4       {'a': 3, 'b': 4, 'c': 2}                       True                    bca             3     \n",
      " `c`         5       {'a': 3, 'b': 4, 'c': 5}                       True                    cab             3     \n",
      " `a`         6       {'a': 6, 'b': 4, 'c': 5}                       True                    abc             3     \n",
      "........................................................................................................................\n",
      "For main.string `abcabca` then the last longest substring: 'abc' has length = 3\n",
      "==================================================  INPUT : `pwwkew`  ==================================================\n",
      " char   index|step   letter2index                        if.char.in.list.at-this.step     sub.string      max-len  \n",
      " `p`         0       {'p': 0}                                       False                                   1     \n",
      " `w`         1       {'p': 0, 'w': 1}                               False                                   2     \n",
      " `w`         2       {'p': 0, 'w': 2}                               True                     pw             2     \n",
      " `k`         3       {'p': 0, 'w': 2, 'k': 3}                       False                    ww             2     \n",
      " `e`         4       {'p': 0, 'w': 2, 'k': 3, 'e': 4}               False                   wwk             3     \n",
      " `w`         5       {'p': 0, 'w': 5, 'k': 3, 'e': 4}               True                    wke             3     \n",
      "........................................................................................................................\n",
      "For main.string `pwwkew` then the last longest substring: 'wke' has length = 3\n",
      "==================================================INPUT : `abcdabcaa` ==================================================\n",
      " char   index|step   letter2index                        if.char.in.list.at-this.step     sub.string      max-len  \n",
      " `a`         0       {'a': 0}                                       False                                   1     \n",
      " `b`         1       {'a': 0, 'b': 1}                               False                                   2     \n",
      " `c`         2       {'a': 0, 'b': 1, 'c': 2}                       False                                   3     \n",
      " `d`         3       {'a': 0, 'b': 1, 'c': 2, 'd': 3}               False                                   4     \n",
      " `a`         4       {'a': 4, 'b': 1, 'c': 2, 'd': 3}               True                    abcd            4     \n",
      " `b`         5       {'a': 4, 'b': 5, 'c': 2, 'd': 3}               True                    bcda            4     \n",
      " `c`         6       {'a': 4, 'b': 5, 'c': 6, 'd': 3}               True                    cdab            4     \n",
      " `a`         7       {'a': 7, 'b': 5, 'c': 6, 'd': 3}               True                    dabc            4     \n",
      " `a`         8       {'a': 8, 'b': 5, 'c': 6, 'd': 3}               True                    abca            4     \n",
      "........................................................................................................................\n",
      "For main.string `abcdabcaa` then the last longest substring: 'abcd' has length = 4\n",
      "==================================================  INPUT : `12a$a`   ==================================================\n",
      " char   index|step   letter2index                        if.char.in.list.at-this.step     sub.string      max-len  \n",
      " `1`         0       {'1': 0}                                       False                                   1     \n",
      " `2`         1       {'1': 0, '2': 1}                               False                                   2     \n",
      " `a`         2       {'1': 0, '2': 1, 'a': 2}                       False                                   3     \n",
      " `$`         3       {'1': 0, '2': 1, 'a': 2, '$': 3}               False                                   4     \n",
      " `a`         4       {'1': 0, '2': 1, 'a': 4, '$': 3}               True                    12a$            4     \n",
      "........................................................................................................................\n",
      "For main.string `12a$a` then the last longest substring: '12a$' has length = 4\n",
      "==================================================   INPUT : `aaa`    ==================================================\n",
      " char   index|step   letter2index                        if.char.in.list.at-this.step     sub.string      max-len  \n",
      " `a`         0       {'a': 0}                                       False                                   1     \n",
      " `a`         1       {'a': 1}                                       True                     a              1     \n",
      " `a`         2       {'a': 2}                                       True                     a              1     \n",
      "........................................................................................................................\n",
      "For main.string `aaa` then the last longest substring: 'a' has length = 1\n",
      "==================================================    INPUT : `ab`    ==================================================\n",
      " char   index|step   letter2index                        if.char.in.list.at-this.step     sub.string      max-len  \n",
      " `a`         0       {'a': 0}                                       False                                   1     \n",
      " `b`         1       {'a': 0, 'b': 1}                               False                                   2     \n",
      "........................................................................................................................\n",
      "For main.string `ab` then the last longest substring: 'ab' has length = 2\n",
      "==================================================    INPUT : ` `     ==================================================\n",
      " char   index|step   letter2index                        if.char.in.list.at-this.step     sub.string      max-len  \n",
      " ` `         0       {' ': 0}                                       False                                   1     \n",
      "........................................................................................................................\n",
      "For main.string ` ` then the last longest substring: ' ' has length = 1\n",
      "==================================================INPUT : `aabaab!bb` ==================================================\n",
      " char   index|step   letter2index                        if.char.in.list.at-this.step     sub.string      max-len  \n",
      " `a`         0       {'a': 0}                                       False                                   1     \n",
      " `a`         1       {'a': 1}                                       True                     a              1     \n",
      " `b`         2       {'a': 1, 'b': 2}                               False                    aa             2     \n",
      " `a`         3       {'a': 3, 'b': 2}                               True                     ab             2     \n",
      " `a`         4       {'a': 4, 'b': 2}                               True                     ba             2     \n",
      " `b`         5       {'a': 4, 'b': 5}                               True                     aa             2     \n",
      " `!`         6       {'a': 4, 'b': 5, '!': 6}                       False                   aab             3     \n",
      " `b`         7       {'a': 4, 'b': 7, '!': 6}                       True                    ab!             3     \n",
      " `b`         8       {'a': 4, 'b': 8, '!': 6}                       True                    b!b             3     \n",
      "........................................................................................................................\n",
      "For main.string `aabaab!bb` then the last longest substring: 'ab!' has length = 3\n"
     ]
    }
   ],
   "source": [
    "def lengthOfLongestSubstring(s: str):\n",
    "    letter_to_index = {}\n",
    "    max_length = 0\n",
    "    substr_begin = 0\n",
    "    s_ls = []\n",
    "    print(f\"{'char': ^6}{'index|step': ^15}{'letter2index': <36}{'if.char.in.list.at-this.step': <27}{'sub.string': ^20}{'max-len': ^10}\")\n",
    "    for i, c in enumerate(s):\n",
    "        cond = str(c in letter_to_index)\n",
    "        if c in letter_to_index:\n",
    "            substr_begin = max(letter_to_index[c] + 1, substr_begin)\n",
    "            s_ls.append( (cond, max(max_length, i + 1 - substr_begin), s[i-max_length: i]) )      \n",
    "        letter_to_index[c] = i\n",
    "        max_length = max(max_length, i + 1 - substr_begin)\n",
    "        print(f\"{f'`{c}`': ^6}{str(i): ^15}{str(letter_to_index): <36}{cond: ^27}{s[i-max_length: i]: ^20}{max_length: ^10}\")                    \n",
    "    \n",
    "    if len(s) == max_length:\n",
    "        substr = s\n",
    "    else:\n",
    "        substr = max(s_ls, key=lambda item: item[1])[-1] # s[i-max_length: i]\n",
    "        \n",
    "    print(f\"{120*'.'}\\nFor main.string `{s}` then the last longest substring: '{substr}' has length = {max_length}\")\n",
    "    return str(max_length)\n",
    "\n",
    "for string in [\"abcabca\", \"pwwkew\", \"abcdabcaa\", \"12a$a\", \"aaa\", \"ab\", \" \", 'aabaab!bb']:\n",
    "    print(f\"{50*'='}{f'INPUT : `{string}`': ^20}{50*'='}\")\n",
    "    lengthOfLongestSubstring(string)"
   ]
  },
  {
   "cell_type": "markdown",
   "metadata": {},
   "source": [
    "Moreover, you can consider the unicode of each character "
   ]
  },
  {
   "cell_type": "code",
   "execution_count": 5,
   "metadata": {},
   "outputs": [
    {
     "name": "stdout",
     "output_type": "stream",
     "text": [
      "   character    unicode-ascii \n",
      "       a             97       \n",
      "       b             98       \n",
      "       A             65       \n",
      "       !             33       \n",
      "       *             42       \n",
      "       ?             63       \n"
     ]
    }
   ],
   "source": [
    "print(f\"{'character': ^15}{'unicode-ascii': ^15}\")\n",
    "for char in ['a', 'b', 'A', '!', '*', '?']:\n",
    "    print(f\"{char: ^15}{str(ord(char)): ^15}\")"
   ]
  },
  {
   "cell_type": "markdown",
   "metadata": {},
   "source": [
    "#### Final solution"
   ]
  },
  {
   "cell_type": "code",
   "execution_count": 6,
   "metadata": {},
   "outputs": [
    {
     "name": "stdout",
     "output_type": "stream",
     "text": [
      "main.string     len(main.str)       length.of.longest.substring       \n",
      "'abcdac'              6                          5                    \n",
      "'pwwkew'              6                          4                    \n",
      "'abcabcaa'            8                          4                    \n",
      "'bbbb'                4                          2                    \n",
      "''                    0                          1                    \n",
      "'12a#a'               5                          5                    \n",
      "' '                   1                          2                    \n",
      "'au'                  2                          3                    \n",
      "'c'                   1                          2                    \n",
      "'aam'                 3                          3                    \n",
      "'aabaab!bb'           9                          3                    \n",
      "'abc, opa$ c'        11                          8                    \n"
     ]
    }
   ],
   "source": [
    "class Solution:\n",
    "    def lengthOfLongestSubstring(self, s: str) -> int:\n",
    "        letter_to_index = {}\n",
    "        max_length = 0\n",
    "        substr_begin = 0\n",
    "        for i, c in enumerate(s):\n",
    "            if c in letter_to_index:\n",
    "                #print(f\"Find substring `{s[substr_begin: letter_to_index[c]+1]}` in the string `{s}` until meeting the repeating characters {s[letter_to_index[c] + 1]}\")\n",
    "                substr_begin = max(letter_to_index[c] + 1, substr_begin)\n",
    "            letter_to_index[c] = i\n",
    "            max_length = max(max_length, i + 1 - substr_begin)\n",
    "\n",
    "        return str(max_length)\n",
    "#================================================================================\n",
    "s = Solution()\n",
    "print(f\"{'main.string': <15}{'len(main.str)': ^15}{'length.of.longest.substring': ^40}\")\n",
    "for string in [\"abcdac\", 'pwwkew', 'abcabcaa', 'bbbb', \"\", \"12a#a\", \" \", \"au\", \"c\", \"aam\", \"aabaab!bb\", \"abc, opa$ c\"]:\n",
    "    l = len(string)\n",
    "    string = f\"'{string}'\"\n",
    "    print(f\"{string: <15}{l: ^15}{s.lengthOfLongestSubstring(string): ^40}\")"
   ]
  }
 ],
 "metadata": {
  "kernelspec": {
   "display_name": "Python 3",
   "language": "python",
   "name": "python3"
  },
  "language_info": {
   "codemirror_mode": {
    "name": "ipython",
    "version": 3
   },
   "file_extension": ".py",
   "mimetype": "text/x-python",
   "name": "python",
   "nbconvert_exporter": "python",
   "pygments_lexer": "ipython3",
   "version": "3.10.13"
  }
 },
 "nbformat": 4,
 "nbformat_minor": 2
}
