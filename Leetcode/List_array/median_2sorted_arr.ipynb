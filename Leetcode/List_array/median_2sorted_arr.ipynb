{
 "cells": [
  {
   "cell_type": "markdown",
   "metadata": {},
   "source": [
    "## 1. Using `sorted`\n",
    "Time complexity will depend on `sorted` (about `O(n)`) "
   ]
  },
  {
   "cell_type": "code",
   "execution_count": 5,
   "metadata": {},
   "outputs": [
    {
     "name": "stdout",
     "output_type": "stream",
     "text": [
      "ls1                      ls2                          median of merging.list    \n",
      "[1, 3, 3]                [2, 2, 4]                             2.5              \n",
      "[1, 2]                   [3, 4]                                2.5              \n",
      "[1, 3]                   [2]                                    2               \n",
      "[1, 4, 5, 7, 8]          [2, 3, 2]                             3.5              \n",
      "[1, 1, 1]                [2, 2]                                 1               \n",
      "CPU times: user 131 µs, sys: 0 ns, total: 131 µs\n",
      "Wall time: 126 µs\n"
     ]
    }
   ],
   "source": [
    "class Solution:\n",
    "    def findMedianSortedArrays(self, nums1, nums2):\n",
    "        self.nums1 = nums1\n",
    "        self.nums2 = nums2\n",
    "        nums = sorted(nums1 + nums2)\n",
    "        N = len(nums)\n",
    "        if N % 2:\n",
    "            return nums[(N+1)//2 - 1]\n",
    "        else:\n",
    "            return (nums[N//2] + nums[N//2-1])/2\n",
    "#================================================================================\n",
    "check_list = [([1,3,3], [2,2,4]), ([1,2], [3, 4]), ([1,3], [2]), ([1,4,5,7,8], [2,3,2]), ([1,1,1], [2,2])]\n",
    "def check_time(check_list, sol = Solution()):\n",
    "    print(f\"{'ls1' : <25}{'ls2': <25}{'median of merging.list': ^30}\")\n",
    "    for ls1, ls2 in check_list:\n",
    "        print(f\"{str(ls1) : <25}{str(ls2) : <25}{str(sol.findMedianSortedArrays(ls1, ls2)): ^30}\")\n",
    "#================================================================================\n",
    "%time check_time(check_list)"
   ]
  },
  {
   "cell_type": "markdown",
   "metadata": {},
   "source": [
    "## 2."
   ]
  },
  {
   "cell_type": "code",
   "execution_count": null,
   "metadata": {},
   "outputs": [],
   "source": [
    "class Solution2:\n",
    "    def findMedianSortedArrays(self, nums1, nums2):\n",
    "        self.nums1 = nums1\n",
    "        self.nums2 = nums2\n",
    "\n",
    "#================================================================================\n",
    "%time check_time(check_list, Solution2())"
   ]
  }
 ],
 "metadata": {
  "kernelspec": {
   "display_name": "Python 3",
   "language": "python",
   "name": "python3"
  },
  "language_info": {
   "codemirror_mode": {
    "name": "ipython",
    "version": 3
   },
   "file_extension": ".py",
   "mimetype": "text/x-python",
   "name": "python",
   "nbconvert_exporter": "python",
   "pygments_lexer": "ipython3",
   "version": "3.10.13"
  }
 },
 "nbformat": 4,
 "nbformat_minor": 2
}
