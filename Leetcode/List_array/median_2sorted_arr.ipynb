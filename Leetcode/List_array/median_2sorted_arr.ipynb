{
 "cells": [
  {
   "cell_type": "code",
   "execution_count": 1,
   "metadata": {},
   "outputs": [
    {
     "name": "stdout",
     "output_type": "stream",
     "text": [
      "ls1            ls2             median of merging.list\n",
      "[1, 3, 3]      [2, 2, 4]              2.5\n",
      "[1, 2]         [3, 4]                 2.5\n",
      "[1, 3]         [2]                      2\n"
     ]
    }
   ],
   "source": [
    "class Solution:\n",
    "    def findMedianSortedArrays(self, nums1, nums2):\n",
    "        self.nums1 = nums1\n",
    "        self.nums2 = nums2\n",
    "        nums = sorted(nums1 + nums2)\n",
    "        N = len(nums)\n",
    "        if N % 2:\n",
    "            return nums[(N+1)//2 - 1]\n",
    "        else:\n",
    "            return (nums[N//2] + nums[N//2-1])/2\n",
    "#================================================================================\n",
    "s = Solution()\n",
    "print(f\"{'ls1' : <15}{'ls2': <16}{'median of merging.list': >10}\")\n",
    "for ls1, ls2 in [([1,3,3], [2,2,4]), ([1,2], [3, 4]), ([1,3], [2])]:\n",
    "    print(f\"{str(ls1) : <15}{str(ls2) : <16}{str(s.findMedianSortedArrays(ls1, ls2)): >10}\")"
   ]
  }
 ],
 "metadata": {
  "kernelspec": {
   "display_name": "Python 3",
   "language": "python",
   "name": "python3"
  },
  "language_info": {
   "codemirror_mode": {
    "name": "ipython",
    "version": 3
   },
   "file_extension": ".py",
   "mimetype": "text/x-python",
   "name": "python",
   "nbconvert_exporter": "python",
   "pygments_lexer": "ipython3",
   "version": "3.10.13"
  }
 },
 "nbformat": 4,
 "nbformat_minor": 2
}
