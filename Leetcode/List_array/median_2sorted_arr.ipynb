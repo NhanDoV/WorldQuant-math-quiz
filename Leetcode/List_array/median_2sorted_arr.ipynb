{
 "cells": [
  {
   "cell_type": "code",
   "execution_count": null,
   "metadata": {},
   "outputs": [],
   "source": [
    "class Solution:\n",
    "    def findMedianSortedArrays(self, nums1, nums2):\n",
    "        self.nums1 = nums1\n",
    "        self.nums2 = nums2\n",
    "        nums = sorted(nums1 + nums2)\n",
    "        N = len(nums)\n",
    "        if N % 2:\n",
    "            return nums[(N+1)//2 - 1]\n",
    "        else:\n",
    "            return (nums[N//2] + nums[N//2-1])/2\n",
    "#================================================================================\n",
    "s = Solution()\n",
    "print(f\"{'ls1' : <15}{'ls2': <16}{'median of merging.list': >10}\")\n",
    "for ls1, ls2 in [([1,3,3], [2,2,4]), ([1,2], [3, 4]), ([1,3], [2])]:\n",
    "    print(f\"{str(ls1) : <15}{str(ls2) : <16}{str(s.findMedianSortedArrays(ls1, ls2)): >10}\")"
   ]
  }
 ],
 "metadata": {
  "language_info": {
   "name": "python"
  }
 },
 "nbformat": 4,
 "nbformat_minor": 2
}
