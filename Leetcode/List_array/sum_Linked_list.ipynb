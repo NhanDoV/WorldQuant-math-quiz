{
 "cells": [
  {
   "cell_type": "markdown",
   "metadata": {},
   "source": [
    "# [Add Two Numbers](https://leetcode.com/problems/add-two-numbers/description/)\n",
    "\n",
    "\n",
    "#### List-node (basic) & how to transform this to a list?"
   ]
  },
  {
   "cell_type": "code",
   "execution_count": 4,
   "metadata": {},
   "outputs": [
    {
     "data": {
      "text/plain": [
       "['a', 'b', 'c', 'd']"
      ]
     },
     "execution_count": 4,
     "metadata": {},
     "output_type": "execute_result"
    }
   ],
   "source": [
    "child = {'a':'b', 'b': 'c', 'c': 'd', 'd': None}\n",
    "def next_ll(state=['a']):\n",
    "    value = state[0]\n",
    "    if value is not None:\n",
    "        state[0] = child[value]\n",
    "    return value\n",
    "[x for x in iter(next_ll, None)]"
   ]
  },
  {
   "cell_type": "markdown",
   "metadata": {},
   "source": [
    "# Definition for singly-linked list.\n",
    "\n",
    "Define the class of Linked-list with `next`"
   ]
  },
  {
   "cell_type": "code",
   "execution_count": 5,
   "metadata": {},
   "outputs": [
    {
     "data": {
      "text/plain": [
       "(2, 4, 3)"
      ]
     },
     "execution_count": 5,
     "metadata": {},
     "output_type": "execute_result"
    }
   ],
   "source": [
    "class ListNode:\n",
    "    def __init__(self, val=0, next=None):\n",
    "        self.val = val\n",
    "        self.next = next\n",
    "\n",
    "child1 = ListNode(val= 2, next= ListNode(val= 4, next= ListNode(val= 3, next= None)))\n",
    "child2 = ListNode(val= 5, next= ListNode(val= 6, next= ListNode(val= 4, next= None)))\n",
    "child1.val, child1.next.val, child1.next.next.val"
   ]
  },
  {
   "cell_type": "markdown",
   "metadata": {},
   "source": [
    "#### How to convert list-node to list?"
   ]
  },
  {
   "cell_type": "code",
   "execution_count": 6,
   "metadata": {},
   "outputs": [
    {
     "data": {
      "text/plain": [
       "([2, 4, 3], [5, 6, 4])"
      ]
     },
     "execution_count": 6,
     "metadata": {},
     "output_type": "execute_result"
    }
   ],
   "source": [
    "def linkedls_2_list(linked_list):\n",
    "    l = []\n",
    "    while linked_list is not None:\n",
    "        l.append(linked_list.val)\n",
    "        linked_list = linked_list.next\n",
    "    return l\n",
    "\n",
    "linkedls_2_list(child1), linkedls_2_list(child2)"
   ]
  },
  {
   "cell_type": "markdown",
   "metadata": {},
   "source": [
    "#### Also, how to convert a list to a list-node (pre-defined by a class)?"
   ]
  },
  {
   "cell_type": "code",
   "execution_count": 7,
   "metadata": {},
   "outputs": [
    {
     "data": {
      "text/plain": [
       "(96, 7)"
      ]
     },
     "execution_count": 7,
     "metadata": {},
     "output_type": "execute_result"
    }
   ],
   "source": [
    "def list_2_linkedls(ls):\n",
    "    ll = None\n",
    "    for x in ls:\n",
    "        ll = ListNode(x, next=ll)\n",
    "    return ll\n",
    "    \n",
    "head = list_2_linkedls([0, 5, -6, 1, 7, 96])\n",
    "head.val, head.next.val"
   ]
  },
  {
   "cell_type": "markdown",
   "metadata": {},
   "source": [
    "Verification?"
   ]
  },
  {
   "cell_type": "code",
   "execution_count": 8,
   "metadata": {},
   "outputs": [
    {
     "data": {
      "text/plain": [
       "[96, 7, 1, -6, 5, 0]"
      ]
     },
     "execution_count": 8,
     "metadata": {},
     "output_type": "execute_result"
    }
   ],
   "source": [
    "linkedls_2_list(head)"
   ]
  },
  {
   "cell_type": "code",
   "execution_count": 9,
   "metadata": {},
   "outputs": [
    {
     "name": "stdout",
     "output_type": "stream",
     "text": [
      "------------------------------------------------------    Explaination    ------------------------------------------------------\n",
      "Description.line                             list.num1                           list.num2                      final.sum                       \n",
      "Input                                          [2,4,3]                             [5,6,4]                   sum of 2 nums generated from inputs\n",
      "Transform.to.num                                   342                                 465                         807                          \n"
     ]
    },
    {
     "data": {
      "text/plain": [
       "[7, 0, 8]"
      ]
     },
     "execution_count": 9,
     "metadata": {},
     "output_type": "execute_result"
    }
   ],
   "source": [
    "# Solve for list only\n",
    "def addTwoNumbers(ls1, ls2, is_printed=True):\n",
    "    n1 = len(ls1)\n",
    "    n2 = len(ls2)\n",
    "    num1 = int(''.join([str(ls1[n1-k-1]) for k in range(n1)]))\n",
    "    num2 = int(''.join([str(ls2[n2-k-1]) for k in range(n2)]))\n",
    "    str_ls1 = f\"[{','.join([str(x) for x in ls1])}]\"\n",
    "    str_ls2 = f\"[{','.join([str(x) for x in ls2])}]\"\n",
    "    if is_printed:\n",
    "        print(f\"{54*'-'}{'Explaination': ^20}{54*'-'}\")\n",
    "        print(f\"{'Description.line': <18}{'list.num1': >36}{'list.num2': >36}{'final.sum': ^54}\")\n",
    "        print(f\"{'Input': <18}{str_ls1: >36}{str_ls2: >36}{'sum of 2 nums generated from inputs': >54}\")\n",
    "        print(f\"{'Transform.to.num': <18}{str(num1): >36}{str(num2): >36}{str(num1+num2): ^54}\")    \n",
    "    nums = str(num1 + num2)\n",
    "    n = len(nums)\n",
    "    return [int(nums[n-k-1]) for k in range(n)]\n",
    "\n",
    "addTwoNumbers([2,4,3], [5,6,4])"
   ]
  },
  {
   "cell_type": "code",
   "execution_count": 10,
   "metadata": {},
   "outputs": [
    {
     "name": "stdout",
     "output_type": "stream",
     "text": [
      "------------------------------------------------------    Explaination    ------------------------------------------------------\n",
      "Description.line                             list.num1                           list.num2                      final.sum                       \n",
      "Input                                          [2,4,3]                             [5,6,4]                   sum of 2 nums generated from inputs\n",
      "Transform.to.num                                   342                                 465                         807                          \n"
     ]
    },
    {
     "data": {
      "text/plain": [
       "[7, 0, 8]"
      ]
     },
     "execution_count": 10,
     "metadata": {},
     "output_type": "execute_result"
    }
   ],
   "source": [
    "# Solution for list-node\n",
    "def add2listnode(ln1, ln2):\n",
    "  def to_list(lnode):\n",
    "    ls = []\n",
    "    n = lnode\n",
    "    while n is not None:\n",
    "        ls.append(n.val)\n",
    "        n = n.next\n",
    "    return ls\n",
    "  ls1 = to_list(ln1)\n",
    "  ls2 = to_list(ln2)\n",
    "  return addTwoNumbers(ls1, ls2)\n",
    "\n",
    "add2listnode(child1, child2)"
   ]
  },
  {
   "cell_type": "code",
   "execution_count": 11,
   "metadata": {},
   "outputs": [
    {
     "name": "stdout",
     "output_type": "stream",
     "text": [
      "------------------------------------------------------    Explaination    ------------------------------------------------------\n",
      "Description.line                             list.num1                           list.num2                      final.sum                       \n",
      "Input                                              [3]                               [7,1]                   sum of 2 nums generated from inputs\n",
      "Transform.to.num                                     3                                  17                          20                          \n",
      "------------------------------------------------------    Explaination    ------------------------------------------------------\n",
      "Description.line                             list.num1                           list.num2                      final.sum                       \n",
      "Input                                            [1,3]                               [9,2]                   sum of 2 nums generated from inputs\n",
      "Transform.to.num                                    31                                  29                          60                          \n",
      "------------------------------------------------------    Explaination    ------------------------------------------------------\n",
      "Description.line                             list.num1                           list.num2                      final.sum                       \n",
      "Input                                            [2,5]                             [8,1,5]                   sum of 2 nums generated from inputs\n",
      "Transform.to.num                                    52                                 518                         570                          \n",
      "------------------------------------------------------    Explaination    ------------------------------------------------------\n",
      "Description.line                             list.num1                           list.num2                      final.sum                       \n",
      "Input                                          [1,2,3]                             [4,5,6]                   sum of 2 nums generated from inputs\n",
      "Transform.to.num                                   321                                 654                         975                          \n",
      "------------------------------------------------------    Explaination    ------------------------------------------------------\n",
      "Description.line                             list.num1                           list.num2                      final.sum                       \n",
      "Input                [2,4,3,1,3,4,5,6,7,8,9,1,3,7,9,1]             [5,6,4,1,2,3,1,0,8,6,5]                   sum of 2 nums generated from inputs\n",
      "Transform.to.num                      1973198765431342                         56801321465                   1973255566752807                   \n"
     ]
    }
   ],
   "source": [
    "check_list = [([3], [7, 1]), ([1,3], [9, 2]), ([2,5], [8,1,5]), ([1,2,3], [4,5,6]), \n",
    "              ([2,4,3,1,3,4,5,6,7,8,9,1,3,7,9,1], [5,6,4,1,2,3,1,0,8,6,5])]\n",
    "for ls1, ls2 in check_list:\n",
    "    addTwoNumbers(ls1, ls2)"
   ]
  },
  {
   "cell_type": "markdown",
   "metadata": {},
   "source": [
    "## Limitation?\n",
    "What happend if our list contained more than 300 elements?"
   ]
  },
  {
   "cell_type": "code",
   "execution_count": 17,
   "metadata": {},
   "outputs": [
    {
     "name": "stdout",
     "output_type": "stream",
     "text": [
      "CPU times: user 1.35 ms, sys: 0 ns, total: 1.35 ms\n",
      "Wall time: 1.36 ms\n",
      "600 [5, 6, 4, 7, 5, 4, 7, 9, 7, 4, 2, 9, 1, 5, 2, 9, 2, 8, 0, 2, 4, 8, 0, 7, 1, 9, 4, 3, 3, 6, 1, 7, 1, 0, 9, 0, 3, 6, 7, 4, 3, 3, 3, 4, 3, 7, 9, 4, 3, 0, 2, 8, 4, 4, 1, 6, 0, 1, 4, 6, 9, 5, 7, 0, 7, 8, 2, 7, 9, 2, 1, 8, 0, 4, 0, 6, 9, 9, 0, 6, 5, 9, 8, 0, 7, 1, 5, 5, 6, 3, 7, 9, 1, 0, 3, 0, 0, 2, 2, 6, 9, 2, 6, 5, 0, 9, 7, 1, 9, 7, 8, 1, 8, 1, 7, 5, 7, 5, 5, 1, 5, 7, 0, 4, 1, 5, 3, 6, 7, 7, 0, 5, 8, 0, 2, 8, 9, 4, 3, 9, 3, 9, 5, 9, 7, 8, 2, 8, 8, 5, 3, 9, 8, 0, 3, 4, 1, 5, 0, 2, 5, 5, 0, 2, 0, 2, 2, 8, 7, 6, 2, 7, 6, 4, 0, 5, 4, 2, 2, 6, 8, 3, 9, 5, 1, 2, 5, 6, 7, 4, 8, 7, 8, 4, 5, 2, 3, 9, 0, 9, 8, 9, 9, 7, 7, 8, 2, 5, 6, 6, 9, 5, 5, 1, 9, 5, 6, 9, 1, 6, 8, 0, 5, 6, 3, 2, 6, 6, 3, 0, 7, 8, 1, 9, 3, 1, 1, 3, 5, 8, 0, 1, 6, 8, 0, 4, 9, 9, 7, 8, 6, 5, 5, 5, 2, 7, 8, 5, 9, 2, 1, 3, 2, 0, 0, 8, 5, 5, 3, 6, 4, 4, 3, 3, 0, 2, 1, 9, 6, 0, 4, 3, 8, 2, 4, 3, 3, 7, 8, 5, 2, 4, 7, 0, 9, 0, 1, 6, 9, 9, 6, 4, 1, 8, 2, 5, 3, 6, 8, 3, 6, 6, 4, 7, 8, 4, 2, 9, 1, 8, 0, 8, 2, 1, 3, 3, 7, 9, 4, 9, 9, 0, 0, 5, 7, 4, 4, 7, 4, 3, 4, 4, 5, 1, 2, 1, 6, 9, 6, 3, 0, 7, 8, 6, 1, 6, 4, 7, 9, 3, 9, 3, 7, 5, 2, 3, 1, 4, 3, 9, 3, 7, 8, 4, 1, 5, 0, 0, 8, 9, 5, 7, 3, 1, 4, 8, 0, 5, 2, 3, 5, 4, 4, 6, 8, 9, 0, 5, 3, 5, 7, 8, 8, 9, 7, 0, 1, 1, 1, 4, 4, 7, 0, 7, 0, 7, 4, 3, 0, 1, 7, 8, 9, 5, 0, 6, 4, 0, 0, 4, 4, 9, 3, 3, 1, 5, 8, 5, 3, 9, 5, 4, 8, 2, 1, 0, 9, 7, 3, 9, 4, 8, 9, 3, 1, 0, 1, 0, 8, 6, 4, 6, 7, 0, 8, 9, 2, 1, 8, 7, 3, 1, 3, 0, 5, 3, 8, 7, 5, 2, 9, 1, 9, 4, 7, 0, 0, 1, 3, 6, 8, 1, 9, 1, 8, 9, 4, 6, 5, 5, 3, 3, 5, 2, 2, 0, 1, 4, 3, 7, 0, 3, 5, 1, 4, 5, 2, 6, 2, 1, 1, 8, 2, 8, 5, 5, 8, 8, 2, 7, 0, 1, 6, 4, 1, 2, 8, 4, 0, 7, 7, 0, 7, 4, 8, 4, 4, 0, 3, 3, 5, 6, 0, 4, 4, 8, 8, 3, 2, 5, 1, 4, 1, 1, 8, 0, 5, 7, 4, 8, 0, 3, 2, 8, 5, 7, 7, 1, 2, 2, 8, 7, 2, 3, 8, 2, 3, 4, 5, 7, 6, 2, 3, 3, 4, 4, 4, 8, 4, 4]\n"
     ]
    }
   ],
   "source": [
    "import numpy as np\n",
    "\n",
    "ls1 = np.random.randint(0, 9, 500)\n",
    "ls2 = np.random.randint(0, 9, 600)\n",
    "%time res = addTwoNumbers(ls1, ls2, is_printed=False)\n",
    "print(len(res), res)"
   ]
  }
 ],
 "metadata": {
  "kernelspec": {
   "display_name": "Python 3",
   "language": "python",
   "name": "python3"
  },
  "language_info": {
   "codemirror_mode": {
    "name": "ipython",
    "version": 3
   },
   "file_extension": ".py",
   "mimetype": "text/x-python",
   "name": "python",
   "nbconvert_exporter": "python",
   "pygments_lexer": "ipython3",
   "version": "3.10.13"
  }
 },
 "nbformat": 4,
 "nbformat_minor": 2
}
