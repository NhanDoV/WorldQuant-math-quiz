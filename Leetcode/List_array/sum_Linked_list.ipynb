{
 "cells": [
  {
   "cell_type": "code",
   "execution_count": null,
   "metadata": {},
   "outputs": [],
   "source": [
    "# [Add Two Numbers](https://leetcode.com/problems/add-two-numbers/description/)\n",
    "\n",
    "\n",
    "#### List-node (basic) & how to transform this to a list?"
   ]
  },
  {
   "cell_type": "code",
   "execution_count": null,
   "metadata": {},
   "outputs": [],
   "source": [
    "child = {'a':'b', 'b': 'c', 'c': 'd', 'd': None}\n",
    "def next_ll(state=['a']):\n",
    "  value = state[0]\n",
    "  if value is not None:\n",
    "    state[0] = child[value]\n",
    "  return value\n",
    "[x for x in iter(next_ll, None)]"
   ]
  },
  {
   "cell_type": "markdown",
   "metadata": {},
   "source": [
    "# Definition for singly-linked list.\n",
    "class ListNode:\n",
    "    def __init__(self, val=0, next=None):\n",
    "        self.val = val\n",
    "        self.next = next\n",
    "\n",
    "child1 = ListNode(val= 2, next= ListNode(val= 4, next= ListNode(val= 3, next= None)))\n",
    "child2 = ListNode(val= 5, next= ListNode(val= 6, next= ListNode(val= 4, next= None)))\n",
    "child1.val, child1.next.val"
   ]
  },
  {
   "cell_type": "markdown",
   "metadata": {},
   "source": [
    "#### How to convert list-node to list?"
   ]
  },
  {
   "cell_type": "code",
   "execution_count": null,
   "metadata": {},
   "outputs": [],
   "source": [
    "l = []\n",
    "n = child1\n",
    "while n is not None:\n",
    "    l.append(n.val)\n",
    "    n = n.next\n",
    "l"
   ]
  },
  {
   "cell_type": "markdown",
   "metadata": {},
   "source": [
    "#### Also, how to convert a list to a list-node (pre-defined by a class)?"
   ]
  },
  {
   "cell_type": "code",
   "execution_count": null,
   "metadata": {},
   "outputs": [],
   "source": [
    "head = None\n",
    "for x in [5, 1, 7, 96]:\n",
    "    head = ListNode(x, next=head)\n",
    "head.val, head.next.val"
   ]
  },
  {
   "cell_type": "code",
   "execution_count": null,
   "metadata": {},
   "outputs": [],
   "source": [
    "# Solve for list only\n",
    "def addTwoNumbers(ls1, ls2):\n",
    "    n1 = len(ls1)\n",
    "    n2 = len(ls2)\n",
    "    num1 = int(''.join([str(ls1[n1-k-1]) for k in range(n1)]))\n",
    "    num2 = int(''.join([str(ls2[n2-k-1]) for k in range(n2)]))\n",
    "    print(f\"Explaination: {num1} (from {ls1}) + {num2} (from {ls2}) = {num1 + num2}\")\n",
    "    nums = str(num1 + num2)\n",
    "    n = len(nums)\n",
    "    return [int(nums[n-k-1]) for k in range(n)]\n",
    "\n",
    "addTwoNumbers([2,4,3], [5,6,4])"
   ]
  },
  {
   "cell_type": "code",
   "execution_count": null,
   "metadata": {},
   "outputs": [],
   "source": [
    "# Solution for list-node\n",
    "def add2listnode(ln1, ln2):\n",
    "  def to_list(lnode):\n",
    "    ls = []\n",
    "    n = lnode\n",
    "    while n is not None:\n",
    "        ls.append(n.val)\n",
    "        n = n.next\n",
    "    return ls\n",
    "  ls1 = to_list(ln1)\n",
    "  ls2 = to_list(ln2)\n",
    "  return addTwoNumbers(ls1, ls2)\n",
    "\n",
    "add2listnode(child1, child2)"
   ]
  }
 ],
 "metadata": {
  "language_info": {
   "name": "python"
  }
 },
 "nbformat": 4,
 "nbformat_minor": 2
}
