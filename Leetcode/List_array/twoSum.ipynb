{
 "cells": [
  {
   "cell_type": "markdown",
   "metadata": {},
   "source": [
    "# Description\n",
    "[Reference](https://leetcode.com/problems/two-sum/)\n",
    "- Given an `array` of integers nums and an integer `target`, return indices of the two numbers such that they add up to target.\n",
    "\n",
    "- You may assume that each input would have **exactly one solution**, and you may not use the same element twice."
   ]
  },
  {
   "cell_type": "code",
   "execution_count": 1,
   "metadata": {},
   "outputs": [
    {
     "name": "stdout",
     "output_type": "stream",
     "text": [
      "num[list]           target    twoSum\n",
      "[2, 7, 11, 15]        9       [0, 1]\n",
      "[3, 2, 4]             6       [1, 2]\n",
      "[3, 3]                6       [0, 1]\n"
     ]
    }
   ],
   "source": [
    "class Solution:\n",
    "    def twoSum(self, nums, target):\n",
    "        self.nums = nums\n",
    "        self.target = target\n",
    "        N = len(nums)\n",
    "        ls = []\n",
    "        for i in range(N):\n",
    "            for j in range(i+1, N):\n",
    "                if nums[i] + nums[j] == target:\n",
    "                    ls.append([i, j])\n",
    "        return ls[0]\n",
    "#================================================================================\n",
    "check_list = [([2,7,11,15], 9), ([3,2,4], 6), ([3,3], 6)]\n",
    "s = Solution()\n",
    "\n",
    "print(f\"{'num[list]': <20}{'target': ^6}{'twoSum': >10}\")\n",
    "for num, target in check_list:\n",
    "    print(f\"{str(num): <20}{target: ^6}{str(s.twoSum(num, target)): >10}\")"
   ]
  }
 ],
 "metadata": {
  "kernelspec": {
   "display_name": "Python 3",
   "language": "python",
   "name": "python3"
  },
  "language_info": {
   "codemirror_mode": {
    "name": "ipython",
    "version": 3
   },
   "file_extension": ".py",
   "mimetype": "text/x-python",
   "name": "python",
   "nbconvert_exporter": "python",
   "pygments_lexer": "ipython3",
   "version": "3.10.13"
  }
 },
 "nbformat": 4,
 "nbformat_minor": 2
}
