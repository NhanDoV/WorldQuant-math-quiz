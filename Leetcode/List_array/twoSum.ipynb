{
 "cells": [
  {
   "cell_type": "code",
   "execution_count": null,
   "metadata": {},
   "outputs": [],
   "source": [
    "class Solution:\n",
    "    def twoSum(self, nums, target):\n",
    "        self.nums = nums\n",
    "        self.target = target\n",
    "        N = len(nums)\n",
    "        ls = []\n",
    "        for i in range(N):\n",
    "            for j in range(i+1, N):\n",
    "                if nums[i] + nums[j] == target:\n",
    "                    ls.append([i, j])\n",
    "        return ls[0]\n",
    "#================================================================================\n",
    "check_list = [([2,7,11,15], 9), ([3,2,4], 6), ([3,3], 6)]\n",
    "s = Solution()\n",
    "print(f\"{'num[list]': <20}{'target': ^6}{'twoSum': >10}\")\n",
    "for num, target in check_list:\n",
    "    print(f\"{str(num): <20}{target: ^6}{str(s.twoSum(num, target)): >10}\")"
   ]
  }
 ],
 "metadata": {
  "language_info": {
   "name": "python"
  }
 },
 "nbformat": 4,
 "nbformat_minor": 2
}
